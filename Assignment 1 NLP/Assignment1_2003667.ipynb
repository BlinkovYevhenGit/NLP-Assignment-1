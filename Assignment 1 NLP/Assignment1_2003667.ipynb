{
 "cells": [
  {
   "cell_type": "raw",
   "metadata": {},
   "source": [
    "# Part 1: Regular expression (40%) (You can store your code in output part1_regularexpression_studentID.py\n",
    "\n",
    "• (20%) Write a regular expression that can find all amounts of money in a text. Your expression\n",
    "should be able to deal with different formats and currencies, for example £50,000 and\n",
    "£117.3m as well as 30p, 500m euro, 338bn euros, $15bn and $92.88. Make sure that you can\n",
    "at least detect amounts in Pounds, Dollars and Euros.\n",
    "\n",
    "For full marks: include the output of a Python program that applies your regular expression to the following BBC News Web site:\n",
    "https://www.bbc.co.uk/news/business-41779341"
   ]
  },
  {
   "cell_type": "code",
   "execution_count": 1,
   "metadata": {},
   "outputs": [],
   "source": [
    "import re\n",
    "import requests\n",
    "from bs4 import BeautifulSoup"
   ]
  },
  {
   "cell_type": "raw",
   "metadata": {},
   "source": [
    "The 'url' variable below contains link to another BBC article not related to finances. This article is simply for a test."
   ]
  },
  {
   "cell_type": "code",
   "execution_count": 2,
   "metadata": {},
   "outputs": [],
   "source": [
    "site = \"https://www.bbc.co.uk/news/business-41779341\"\n",
    "url = 'https://www.bbc.co.uk/news/world-europe-49345912'"
   ]
  },
  {
   "cell_type": "code",
   "execution_count": 3,
   "metadata": {},
   "outputs": [],
   "source": [
    "response = requests.get(site)\n",
    "soup = BeautifulSoup(response.text, \"html.parser\")  # create a new bs4 object from the html data loaded\n",
    "\n",
    "for script in soup([\"script\", \"style\"]):  # remove all javascript and stylesheet code\n",
    "    script.decompose()\n",
    "\n",
    "text = ' '.join(soup.stripped_strings)\n",
    "strs=[]\n",
    "strs.append(text)\n",
    "\n",
    "money_tokens = list()\n",
    "for st in strs:\n",
    "    money_string = st\n",
    "    res = re.findall(\"(?:\\d+[.,]?\\d+[a-zA-Z]* [pPeEdD][uo][rlu]\\w+|\\d+[.,]?\\d+[a-zA-Z]*p|[^\\w\\s+\\-\\\"]\\d+[.,]?\\d+[a-zA-Z]*(?=[., )]))\", money_string)\n",
    "    if res != []:\n",
    "        money_tokens += res\n"
   ]
  },
  {
   "cell_type": "code",
   "execution_count": 4,
   "metadata": {},
   "outputs": [
    {
     "name": "stdout",
     "output_type": "stream",
     "text": [
      "US economy grows faster than expected in third quarter - BBC News BBC Homepage Skip to content Accessibility Help sign-in BBC Account alerts Notifications Home News Sport Weather iPlayer Sounds CBBC CBeebies Menu More caret-down search Search Home News Sport Weather iPlayer Sounds CBBC CBeebies Food Bitesize Arts Taster Local Three no Close menu BBC News list Menu Home Coronavirus US Election UK World Business Politics Tech Science Health Family & Education list More Entertainment & Arts Stories In Pictures Newsbeat Reality Check Long Reads Disability Business Your Money Market Data Companies Economy Global Car Industry Business of Sport US economy grows faster than expected in third quarter Published duration 27 October 2017 image copyright Getty Images image caption Spending on autos increased, helping US GDP to grow at 3% The US economy expanded at an annual pace of 3% during the three months to the end of September, which was stronger than expected. The growth extended the robust activity reported in the previous quarter, when US GDP grew at an annual pace of 3.1%. Analysts had been expecting a sharp slowdown after back-to-back hurricanes battered several states in the quarter. But consumer spending held steady, despite a drop in homebuilding investment. Together the two quarters mark the strongest six months of economic activity for the US since 2014, the Commerce Department said . \"Overall, this is a very solid performance, given the disruption caused by Hurricanes Harvey and Irma,\" wrote Ian Shepherdson of Pantheon Macroeconomics. \"Their net effect seems to have been smaller and shorter than we expected.\" What went into the figure? Consumer spending, which increased at a hearty 3.3% rate in the second quarter, slowed to 2.4% growth - a deceleration probably caused by the hurricanes. Construction spending also fell, but exports and business investments in equipment and intellectual property accelerated from the previous quarter. Economists warned that estimates of business inventories, a major factor in the GDP rise, can vary significantly quarter-to-quarter. Excluding that category, GDP -  a broad measure of goods and services made in the US -  increased at an annual pace of 2.3%. The Commerce Department cautioned that its figures did not capture all the losses caused by the storms, which caused widespread closures of factories, offices and airports in states such as Florida and Texas. Its GDP estimates, for example, do not measure activity in US territories, such as Puerto Rico, which suffered some of the most severe damage. The Commerce Department estimated that storm-related damage to fixed assets, such as homes and government buildings, totalled more than $131bn (Â£100bn). It also said it expected the government and insurers to pay more than $100bn in insurance claims, with foreign companies accounting for more than $17.4bn. Commerce Department Secretary Wilbur Ross claimed Friday's GDP report a sign of progress, calling it a \"remarkable achievement in light of the recent hurricanes\". President Donald Trump has made hitting annual GDP growth of 3% a goal, and pledged tax cuts and other policies intended to reach that pace or higher. \"President Trump's bold agenda is steadily overcoming the dismal economy inherited from the previous administration,\" Mr Ross said. \"As the President's tax cut plan is implemented, our entire economy will continue to come roaring back.\" On a year-on-year basis, GDP was up 2.3%, the Commerce Department said in its report, which is an advance estimate that will be revised as more data is collected. That pace is roughly in line with US expansion since the 2007-2009 recession. Kenneth Rogoff, a professor of economics at Harvard University, said the growth reflects improvement in the labour market and other areas that date back to the Obama administration. While some of the president's plans may boost growth, they're not in place yet, he said. \"Let's make no mistake - this was a very good number,\" he said. \"Jobs have been improving, consumption's been improving, businesses are doing better, there is a profound inequality problem but the US economy, despite not much from President Trump, has been doing well.\" Economists said the underlying economic strength shown in the report makes it more likely that central bankers at the US Federal Reserve will raise interest rates again by the end of the year, as expected. The price index for consumer spending, a closely-watched measure of inflation, increased at 1.3% in the third quarter, excluding food and energy. That remains below the Federal Reserve's 2% target. Related Topics US economy Economic growth More on this story You're hired: Who will Trump choose to chair the Fed? Published 23 October 2017 US economic growth revised up again Published 28 September 2017 Top Stories Inquiry 'found Patel broke behaviour rules' A standards investigation says the home secretary breached the ministerial code, sources say. Published duration 58 minutes ago NI to face new lockdown measures from next Friday Published duration 26 minutes ago Arthritis drug may treat critically ill Covid patients Published duration 4 hours ago Features What Obama really thought of other leaders âBoeing played Russian roulette with peopleâs livesâ Was the scientific advice for lockdown flawed? Can sending fewer emails really save the planet? Santa explains what a Covid Christmas looks like. Video Santa explains what a Covid Christmas looks like play The 29 miners who never came home How do Scots rate their leaders in the pandemic? Have these seven green targets been met? Taste of loneliness? A photo of fish and chips The world's most expensive election. Video The world's most expensive election play Most Read Coronavirus: NI to face new lockdown measures from next Friday 1 Inquiry 'found Priti Patel broke behaviour rules' 2 Covid: Pentre funeral for mother and sons who died with coronavirus 3 Tocilizumab: Arthritis drug may treat severe Covid 4 Obama memoir: What he really thought of Putin and other leaders 5 Coleen Rooney 'pointed finger' at Rebekah Vardy over story leaks 6 Hong Kong: 'Eyes will be plucked out,' China warns West 7 Covid: Seven things that may be different this Christmas 8 France's Macron issues 'republican values' ultimatum to Muslim leaders 9 Covid-19: Â£300m rescue deal for sport, and 'I miss snogging!' 10 BBC News Services mobile-smart On your mobile microphone On smart speakers newsletter Get news alerts email Contact BBC News Best of BBC Sounds Preview Louis Theroux's new series. Audio Preview Louis Theroux's new series Attribution BBC Sounds listen The curious case of the female killer Attribution BBC Sounds Lewis Hamilton is making F1 history! Audio Lewis Hamilton is making F1 history! Attribution BBC Sounds listen Mood-boosting tunes to fuel your workout. Audio Mood-boosting tunes to fuel your workout Attribution BBC Sounds listen Home News Sport Weather iPlayer Sounds CBBC CBeebies Food Bitesize Arts Taster Local Three Terms of Use About the BBC Privacy Policy Cookies Accessibility Help Parental Guidance Contact the BBC Get Personalised Newsletters Why you can trust the BBC Â© 2020 BBC. The BBC is not responsible for the content of external sites. Read about our approach to external linking.\n"
     ]
    }
   ],
   "source": [
    "print(money_string)"
   ]
  },
  {
   "cell_type": "code",
   "execution_count": 5,
   "metadata": {},
   "outputs": [
    {
     "name": "stdout",
     "output_type": "stream",
     "text": [
      "['$131bn', '£100bn', '$100bn', '$17.4bn', '£300m']\n"
     ]
    }
   ],
   "source": [
    "print(money_tokens)"
   ]
  },
  {
   "cell_type": "raw",
   "metadata": {},
   "source": [
    "<===================================================MY EXTRA TESTS====================================================>"
   ]
  },
  {
   "cell_type": "raw",
   "metadata": {},
   "source": [
    "There are two files: \"check.txt\",\"bbc_text.txt\"(stored text from the given BBC financial article).\n",
    "\n",
    "P.S. \"bbc_text.txt\" content may be slightly different from the article parsed by BeautifulSoup, because BBC sometimes updates recommended news on the right corner of webpage. Thus, one of the \"money_tokens\" variables for parsed webpage and stored(copied) may contain extra tokens. This case was demonstrated in the TEST №2. "
   ]
  },
  {
   "cell_type": "raw",
   "metadata": {},
   "source": [
    "TEST №1 - Matching money tokens in a sample from assignment(in \"check.txt\") which contains proposed types of currency. The code below reads prepared text from the textfile."
   ]
  },
  {
   "cell_type": "code",
   "execution_count": 6,
   "metadata": {},
   "outputs": [],
   "source": [
    "with open(\"check.txt\", \"r\", encoding=\"utf8\") as file:\n",
    "    strs = file.readlines()\n",
    "    i = 0\n",
    "while i < len(strs):\n",
    "    res = re.findall(\"^\\n$\", strs[i])\n",
    "    if res != []:\n",
    "        strs.pop(i)\n",
    "    i += 1"
   ]
  },
  {
   "cell_type": "code",
   "execution_count": 7,
   "metadata": {},
   "outputs": [
    {
     "name": "stdout",
     "output_type": "stream",
     "text": [
      "• (20%) Write a regular expression that can find all amounts of money in a text. Your expression\n",
      "\n",
      "should be able to deal with different formats and currencies, for example £50,000 and\n",
      "\n",
      "£117.3m as well as 30p, 500m euro, 338bn euros, $15bn and $92.88. Make sure that you can\n",
      "\n",
      "at least detect amounts in Pounds, Dollars and Euros.\n"
     ]
    }
   ],
   "source": [
    "money_tokens = list()\n",
    "for st in strs:\n",
    "    money_string = st\n",
    "    res = re.findall(\"(?:\\d+[.,]?\\d+[a-zA-Z]* [pPeEdD][uo][rlu]\\w+|\\d+[.,]?\\d+[a-zA-Z]*p|[^\\w\\s+\\-\\\"]\\d+[.,]?\\d+[a-zA-Z]*(?=[., )]))\", money_string)#[^\\w\\s+-]\\d+[.,]?\\d+\\w+\n",
    "    print(money_string)\n",
    "    if res != []:\n",
    "        money_tokens += res"
   ]
  },
  {
   "cell_type": "code",
   "execution_count": 8,
   "metadata": {},
   "outputs": [
    {
     "name": "stdout",
     "output_type": "stream",
     "text": [
      "['£50,000', '£117.3m', '30p', '500m euro', '338bn euros', '$15bn', '$92.88']\n"
     ]
    }
   ],
   "source": [
    "print(money_tokens)"
   ]
  },
  {
   "cell_type": "raw",
   "metadata": {},
   "source": [
    "TEST №2 - Matching money tokens from the BBC financial article stored in \"bbc_text.txt\" textfile "
   ]
  },
  {
   "cell_type": "code",
   "execution_count": 9,
   "metadata": {},
   "outputs": [],
   "source": [
    "with open(\"bbc_text.txt\", \"r\", encoding=\"utf8\") as file:\n",
    "    strs = file.readlines()\n",
    "    i = 0\n",
    "while i < len(strs):\n",
    "    res = re.findall(\"^\\n$\", strs[i])\n",
    "    if res != []:\n",
    "        strs.pop(i)\n",
    "    i += 1"
   ]
  },
  {
   "cell_type": "code",
   "execution_count": 10,
   "metadata": {},
   "outputs": [
    {
     "name": "stdout",
     "output_type": "stream",
     "text": [
      "US economy grows faster than expected in third quarter - BBC News BBC Homepage Skip to content Accessibility Help sign-in BBC Account alerts Notifications Home News Sport Weather iPlayer Sounds CBBC CBeebies Menu More caret-down search Search Home News Sport Weather iPlayer Sounds CBBC CBeebies Food Bitesize Arts Taster Local Three no Close menu BBC News list Menu Home Coronavirus US Election UK World Business Politics Tech Science Health Family & Education list More Entertainment & Arts Stories In Pictures Newsbeat Reality Check Long Reads Disability Business Your Money Market Data Companies Economy Global Car Industry Business of Sport US economy grows faster than expected in third quarter Published duration 27 October 2017 image copyright Getty Images image caption Spending on autos increased, helping US GDP to grow at 3% The US economy expanded at an annual pace of 3% during the three months to the end of September, which was stronger than expected. The growth extended the robust activity reported in the previous quarter, when US GDP grew at an annual pace of 3.1%. Analysts had been expecting a sharp slowdown after back-to-back hurricanes battered several states in the quarter. But consumer spending held steady, despite a drop in homebuilding investment. Together the two quarters mark the strongest six months of economic activity for the US since 2014, the Commerce Department said . \"Overall, this is a very solid performance, given the disruption caused by Hurricanes Harvey and Irma,\" wrote Ian Shepherdson of Pantheon Macroeconomics. \"Their net effect seems to have been smaller and shorter than we expected.\" What went into the figure? Consumer spending, which increased at a hearty 3.3% rate in the second quarter, slowed to 2.4% growth - a deceleration probably caused by the hurricanes. Construction spending also fell, but exports and business investments in equipment and intellectual property accelerated from the previous quarter. Economists warned that estimates of business inventories, a major factor in the GDP rise, can vary significantly quarter-to-quarter. Excluding that category, GDP -  a broad measure of goods and services made in the US -  increased at an annual pace of 2.3%. The Commerce Department cautioned that its figures did not capture all the losses caused by the storms, which caused widespread closures of factories, offices and airports in states such as Florida and Texas. Its GDP estimates, for example, do not measure activity in US territories, such as Puerto Rico, which suffered some of the most severe damage. The Commerce Department estimated that storm-related damage to fixed assets, such as homes and government buildings, totalled more than $131bn (Â£100bn). It also said it expected the government and insurers to pay more than $100bn in insurance claims, with foreign companies accounting for more than $17.4bn. Commerce Department Secretary Wilbur Ross claimed Friday's GDP report a sign of progress, calling it a \"remarkable achievement in light of the recent hurricanes\". President Donald Trump has made hitting annual GDP growth of 3% a goal, and pledged tax cuts and other policies intended to reach that pace or higher. \"President Trump's bold agenda is steadily overcoming the dismal economy inherited from the previous administration,\" Mr Ross said. \"As the President's tax cut plan is implemented, our entire economy will continue to come roaring back.\" On a year-on-year basis, GDP was up 2.3%, the Commerce Department said in its report, which is an advance estimate that will be revised as more data is collected. That pace is roughly in line with US expansion since the 2007-2009 recession. Kenneth Rogoff, a professor of economics at Harvard University, said the growth reflects improvement in the labour market and other areas that date back to the Obama administration. While some of the president's plans may boost growth, they're not in place yet, he said. \"Let's make no mistake - this was a very good number,\" he said. \"Jobs have been improving, consumption's been improving, businesses are doing better, there is a profound inequality problem but the US economy, despite not much from President Trump, has been doing well.\" Economists said the underlying economic strength shown in the report makes it more likely that central bankers at the US Federal Reserve will raise interest rates again by the end of the year, as expected. The price index for consumer spending, a closely-watched measure of inflation, increased at 1.3% in the third quarter, excluding food and energy. That remains below the Federal Reserve's 2% target. Related Topics US economy Economic growth More on this story You're hired: Who will Trump choose to chair the Fed? Published 23 October 2017 US economic growth revised up again Published 28 September 2017 Top Stories Labour readmits Corbyn after anti-Semitism row The ex-leader was suspended by the party over his reaction to a report by the human rights watchdog. Published duration 19 minutes ago Ban on new petrol and diesel cars in UK from 2030 Published duration 2 hours ago Level 4 lockdown to be imposed in 11 Scottish areas Published duration 8 hours ago Features The football fans missing their 'happy place' What is devolution and how does it work across the UK? How to be happier while working from home How Dolly Parton is helping fight Covid-19 Is this Covid wave in the US the worst yet? The Attenborough spoof about the 'wild life' of mums Newscast: Vaxxing 9 to 5 No, voting machines didn't delete millions of Trump ballots 'We're paying the price for disrespecting nature' Video 'We're paying the price for disrespecting nature' play Entertainers find new ways to pay the bills Most Read US troops in Afghanistan: Republicans alarmed by withdrawal plans 1 Ban on new petrol and diesel cars in UK from 2030 under PM's green plan 2 Coronavirus: Doctors spell out how to exit England's lockdown 3 Little Mix: Jesy Nelson takes break for medical reasons 4 Newspaper headlines: Covid contracts 'concern' and 'plan to save Christmas' 5 Rupert Grint breaks Sir David Attenborough's Instagram record 6 Go-between paid Â£21m in taxpayer funds for NHS PPE 7 World's only known white giraffe fitted with tracker to deter poachers 8 Jeremy Corbyn: Labour readmits ex-leader after anti-Semitism row 9 Lord Ahmed retires from Parliament days before expulsion 10 BBC News Services mobile-smart On your mobile microphone On smart speakers newsletter Get news alerts email Contact BBC News Best of BBC Sounds How will we vaccinate the world? Audio How will we vaccinate the world? Attribution BBC Sounds listen Mood-boosting tunes to fuel your workout. Audio Mood-boosting tunes to fuel your workout Attribution BBC Sounds listen A gripping tale of abuse and redemption. Audio A gripping tale of abuse and redemption Attribution BBC Sounds listen Does online activism achieve anything? Audio Does online activism achieve anything? Attribution BBC Sounds listen Home News Sport Weather iPlayer Sounds CBBC CBeebies Food Bitesize Arts Taster Local Three Terms of Use About the BBC Privacy Policy Cookies Accessibility Help Parental Guidance Contact the BBC Get Personalised Newsletters Why you can trust the BBC Â© 2020 BBC. The BBC is not responsible for the content of external sites. Read about our approach to external linking.\n"
     ]
    }
   ],
   "source": [
    "money_tokens = list()\n",
    "for st in strs:\n",
    "    money_string = st\n",
    "    res = re.findall(\"(?:\\d+[.,]?\\d+[a-zA-Z]* [pPeEdD][uo][rlu]\\w+|\\d+[.,]?\\d+[a-zA-Z]*p|[^\\w\\s+\\-\\\"]\\d+[.,]?\\d+[a-zA-Z]*(?=[., )]))\", money_string)#[^\\w\\s+-]\\d+[.,]?\\d+\\w+\n",
    "    print(money_string)\n",
    "    if res != []:\n",
    "        money_tokens += res"
   ]
  },
  {
   "cell_type": "code",
   "execution_count": 11,
   "metadata": {},
   "outputs": [
    {
     "name": "stdout",
     "output_type": "stream",
     "text": [
      "['$131bn', '£100bn', '$100bn', '$17.4bn', '£21m']\n"
     ]
    }
   ],
   "source": [
    "print(money_tokens)"
   ]
  },
  {
   "cell_type": "raw",
   "metadata": {},
   "source": [
    "<=======================================================================================================================>"
   ]
  },
  {
   "cell_type": "raw",
   "metadata": {},
   "source": [
    "• (20%)\n",
    "Write a regular expression that can matching all phone numbers listed below: \n",
    "(You can write a python program to check the matching results)\n"
   ]
  },
  {
   "cell_type": "raw",
   "metadata": {},
   "source": [
    "Telephone numbers to match:"
   ]
  },
  {
   "cell_type": "raw",
   "metadata": {},
   "source": [
    "555.123.4565\n",
    "+1-(800)-545-2468\n",
    "2-(800)-545-2468\n",
    "3-800-545-2468\n",
    "555-123-3456\n",
    "555 222 3342\n",
    "(234) 234 2442\n",
    "(243)-234-2342\n",
    "1234567890\n",
    "123.456.7890\n",
    "123.4567\n",
    "123-4567\n",
    "1234567900\n",
    "12345678900"
   ]
  },
  {
   "cell_type": "code",
   "execution_count": 12,
   "metadata": {},
   "outputs": [
    {
     "name": "stdout",
     "output_type": "stream",
     "text": [
      "555.123.4565\n",
      " +1-(800)-545-2468\n",
      " 2-(800)-545-2468\n",
      " 3-800-545-2468\n",
      " 555-123-3456\n",
      " 555 222 3342\n",
      " (234) 234 2442\n",
      " (243)-234-2342\n",
      " 1234567890\n",
      " 123.456.7890\n",
      " 123.4567\n",
      " 123-4567\n",
      " 1234567900\n",
      " 12345678900\n",
      "\n",
      "\n",
      "<=========Telephone numbers checking========>\n",
      "555.123.456 == 555.123.456  Succes\n",
      "+1-(800)-545-246 == +1-(800)-545-246  Succes\n",
      "2-(800)-545-246 == 2-(800)-545-246  Succes\n",
      "3-800-545-246 == 3-800-545-246  Succes\n",
      "555-123-345 == 555-123-345  Succes\n",
      "555 222 334 == 555 222 334  Succes\n",
      "(234) 234 244 == (234) 234 244  Succes\n",
      "(243)-234-234 == (243)-234-234  Succes\n",
      "123456789 == 123456789  Succes\n",
      "123.456.789 == 123.456.789  Succes\n",
      "123.456 == 123.456  Succes\n",
      "123-456 == 123-456  Succes\n",
      "123456790 == 123456790  Succes\n",
      "12345678900 == 12345678900  Succes\n"
     ]
    }
   ],
   "source": [
    "strs=list()\n",
    "with open(\"phone_numbers.txt\", \"r\", encoding=\"utf8\") as file:\n",
    "    strs = file.readlines()\n",
    "    print(*strs)\n",
    "    res=list()\n",
    "    print(\"\\n\")\n",
    "for i in range(0,len(strs)):\n",
    "    strs[i]=strs[i][:len(strs[i])-2] if strs[i].count(\"\\n\")>0 else strs[i]\n",
    "    re_s=[(re.findall(\"[^\\w]*\\d+[^\\w]*\\d+[^\\w]*\\d+[^\\w]?\\d+\",strs[i]))]\n",
    "    re_s=[['']] if re_s==[[]] else re_s\n",
    "    res=res+re_s\n",
    "print(\"<=========Telephone numbers checking========>\")\n",
    "for i in range(0,len(res)):\n",
    "    if res[i][0] == strs[i]:\n",
    "        print(res[i][0],\"==\",strs[i],\" Succes\")\n",
    "    else:\n",
    "        print(res[i][0],\"!=\",strs[i],\" Failure\")\n"
   ]
  },
  {
   "cell_type": "raw",
   "metadata": {},
   "source": [
    "Part 2: NLTK (10%) \n",
    "•Find the 50 highest frequency word in Wall Street Journal corpus in NLTK.books (text7), submit\n",
    "your code as the name: part 2 _NLTK_studentID .py (All punctuation removed and all words\n",
    "lowercased.)"
   ]
  },
  {
   "cell_type": "code",
   "execution_count": 13,
   "metadata": {},
   "outputs": [
    {
     "name": "stdout",
     "output_type": "stream",
     "text": [
      "*** Introductory Examples for the NLTK Book ***\n",
      "Loading text1, ..., text9 and sent1, ..., sent9\n",
      "Type the name of the text or sentence to view it.\n",
      "Type: 'texts()' or 'sents()' to list the materials.\n",
      "text1: Moby Dick by Herman Melville 1851\n",
      "text2: Sense and Sensibility by Jane Austen 1811\n",
      "text3: The Book of Genesis\n",
      "text4: Inaugural Address Corpus\n",
      "text5: Chat Corpus\n",
      "text6: Monty Python and the Holy Grail\n",
      "text7: Wall Street Journal\n",
      "text8: Personals Corpus\n",
      "text9: The Man Who Was Thursday by G . K . Chesterton 1908\n"
     ]
    }
   ],
   "source": [
    "from nltk.book import *"
   ]
  },
  {
   "cell_type": "code",
   "execution_count": 14,
   "metadata": {},
   "outputs": [
    {
     "data": {
      "text/plain": [
       "['Pierre', 'Vinken', ',', '61', 'years']"
      ]
     },
     "execution_count": 14,
     "metadata": {},
     "output_type": "execute_result"
    }
   ],
   "source": [
    "text7.tokens[0:5]\n"
   ]
  },
  {
   "cell_type": "code",
   "execution_count": 15,
   "metadata": {},
   "outputs": [],
   "source": [
    "from nltk import re"
   ]
  },
  {
   "cell_type": "code",
   "execution_count": 16,
   "metadata": {},
   "outputs": [
    {
     "data": {
      "text/plain": [
       "['pierre', 'vinken', '61', 'years', 'old']"
      ]
     },
     "execution_count": 16,
     "metadata": {},
     "output_type": "execute_result"
    }
   ],
   "source": [
    "import string\n",
    "txt7_tkns = text7.tokens\n",
    "\n",
    "txt7_tkns_nopunct = [ ]\n",
    "chars = re.escape(string.punctuation)\n",
    "for word in txt7_tkns:\n",
    "    fixed_word=re.sub(r'['+chars+']', \"\", word).lower()\n",
    "    if fixed_word!=\"\":\n",
    "        txt7_tkns_nopunct.append(fixed_word)\n",
    "txt7_tkns_nopunct[0:5]"
   ]
  },
  {
   "cell_type": "code",
   "execution_count": 17,
   "metadata": {},
   "outputs": [
    {
     "name": "stdout",
     "output_type": "stream",
     "text": [
      "!\"\\#\\$%\\&'\\(\\)\\*\\+,\\-\\./:;<=>\\?@\\[\\\\\\]\\^_`\\{\\|\\}\\~\n"
     ]
    }
   ],
   "source": [
    "print(chars)"
   ]
  },
  {
   "cell_type": "code",
   "execution_count": 18,
   "metadata": {},
   "outputs": [],
   "source": [
    "import nltk"
   ]
  },
  {
   "cell_type": "code",
   "execution_count": 19,
   "metadata": {},
   "outputs": [],
   "source": [
    "freq_dist=nltk.FreqDist(txt7_tkns_nopunct)"
   ]
  },
  {
   "cell_type": "code",
   "execution_count": 20,
   "metadata": {},
   "outputs": [
    {
     "data": {
      "text/html": [
       "<style  type=\"text/css\" >\n",
       "    #T_25e742ae_2ab4_11eb_9691_28f10e09ab6drow0_col1 {\n",
       "            background-color:  #ff0000;\n",
       "            color:  #f1f1f1;\n",
       "        }    #T_25e742ae_2ab4_11eb_9691_28f10e09ab6drow1_col1 {\n",
       "            background-color:  #ff7a7a;\n",
       "            color:  #000000;\n",
       "        }    #T_25e742ae_2ab4_11eb_9691_28f10e09ab6drow2_col1 {\n",
       "            background-color:  #ff8282;\n",
       "            color:  #000000;\n",
       "        }    #T_25e742ae_2ab4_11eb_9691_28f10e09ab6drow3_col1 {\n",
       "            background-color:  #ff8b8b;\n",
       "            color:  #000000;\n",
       "        }    #T_25e742ae_2ab4_11eb_9691_28f10e09ab6drow4_col1 {\n",
       "            background-color:  #ff9696;\n",
       "            color:  #000000;\n",
       "        }    #T_25e742ae_2ab4_11eb_9691_28f10e09ab6drow5_col1 {\n",
       "            background-color:  #ffa1a1;\n",
       "            color:  #000000;\n",
       "        }    #T_25e742ae_2ab4_11eb_9691_28f10e09ab6drow6_col1 {\n",
       "            background-color:  #ffb5b5;\n",
       "            color:  #000000;\n",
       "        }    #T_25e742ae_2ab4_11eb_9691_28f10e09ab6drow7_col1 {\n",
       "            background-color:  #ffb8b8;\n",
       "            color:  #000000;\n",
       "        }    #T_25e742ae_2ab4_11eb_9691_28f10e09ab6drow8_col1 {\n",
       "            background-color:  #ffc4c4;\n",
       "            color:  #000000;\n",
       "        }    #T_25e742ae_2ab4_11eb_9691_28f10e09ab6drow9_col1 {\n",
       "            background-color:  #ffc5c5;\n",
       "            color:  #000000;\n",
       "        }    #T_25e742ae_2ab4_11eb_9691_28f10e09ab6drow10_col1 {\n",
       "            background-color:  #ffc5c5;\n",
       "            color:  #000000;\n",
       "        }    #T_25e742ae_2ab4_11eb_9691_28f10e09ab6drow11_col1 {\n",
       "            background-color:  #ffc7c7;\n",
       "            color:  #000000;\n",
       "        }    #T_25e742ae_2ab4_11eb_9691_28f10e09ab6drow12_col1 {\n",
       "            background-color:  #ffcaca;\n",
       "            color:  #000000;\n",
       "        }    #T_25e742ae_2ab4_11eb_9691_28f10e09ab6drow13_col1 {\n",
       "            background-color:  #ffcece;\n",
       "            color:  #000000;\n",
       "        }    #T_25e742ae_2ab4_11eb_9691_28f10e09ab6drow14_col1 {\n",
       "            background-color:  #ffd0d0;\n",
       "            color:  #000000;\n",
       "        }    #T_25e742ae_2ab4_11eb_9691_28f10e09ab6drow15_col1 {\n",
       "            background-color:  #ffd3d3;\n",
       "            color:  #000000;\n",
       "        }    #T_25e742ae_2ab4_11eb_9691_28f10e09ab6drow16_col1 {\n",
       "            background-color:  #ffd6d6;\n",
       "            color:  #000000;\n",
       "        }    #T_25e742ae_2ab4_11eb_9691_28f10e09ab6drow17_col1 {\n",
       "            background-color:  #ffdada;\n",
       "            color:  #000000;\n",
       "        }    #T_25e742ae_2ab4_11eb_9691_28f10e09ab6drow18_col1 {\n",
       "            background-color:  #ffdada;\n",
       "            color:  #000000;\n",
       "        }    #T_25e742ae_2ab4_11eb_9691_28f10e09ab6drow19_col1 {\n",
       "            background-color:  #ffdbdb;\n",
       "            color:  #000000;\n",
       "        }    #T_25e742ae_2ab4_11eb_9691_28f10e09ab6drow20_col1 {\n",
       "            background-color:  #ffdcdc;\n",
       "            color:  #000000;\n",
       "        }    #T_25e742ae_2ab4_11eb_9691_28f10e09ab6drow21_col1 {\n",
       "            background-color:  #ffdcdc;\n",
       "            color:  #000000;\n",
       "        }    #T_25e742ae_2ab4_11eb_9691_28f10e09ab6drow22_col1 {\n",
       "            background-color:  #ffdcdc;\n",
       "            color:  #000000;\n",
       "        }    #T_25e742ae_2ab4_11eb_9691_28f10e09ab6drow23_col1 {\n",
       "            background-color:  #ffdcdc;\n",
       "            color:  #000000;\n",
       "        }    #T_25e742ae_2ab4_11eb_9691_28f10e09ab6drow24_col1 {\n",
       "            background-color:  #ffdcdc;\n",
       "            color:  #000000;\n",
       "        }    #T_25e742ae_2ab4_11eb_9691_28f10e09ab6drow25_col1 {\n",
       "            background-color:  #ffdddd;\n",
       "            color:  #000000;\n",
       "        }    #T_25e742ae_2ab4_11eb_9691_28f10e09ab6drow26_col1 {\n",
       "            background-color:  #ffdddd;\n",
       "            color:  #000000;\n",
       "        }    #T_25e742ae_2ab4_11eb_9691_28f10e09ab6drow27_col1 {\n",
       "            background-color:  #ffdddd;\n",
       "            color:  #000000;\n",
       "        }    #T_25e742ae_2ab4_11eb_9691_28f10e09ab6drow28_col1 {\n",
       "            background-color:  #ffdede;\n",
       "            color:  #000000;\n",
       "        }    #T_25e742ae_2ab4_11eb_9691_28f10e09ab6drow29_col1 {\n",
       "            background-color:  #ffdede;\n",
       "            color:  #000000;\n",
       "        }    #T_25e742ae_2ab4_11eb_9691_28f10e09ab6drow30_col1 {\n",
       "            background-color:  #ffdede;\n",
       "            color:  #000000;\n",
       "        }    #T_25e742ae_2ab4_11eb_9691_28f10e09ab6drow31_col1 {\n",
       "            background-color:  #ffdfdf;\n",
       "            color:  #000000;\n",
       "        }    #T_25e742ae_2ab4_11eb_9691_28f10e09ab6drow32_col1 {\n",
       "            background-color:  #ffdfdf;\n",
       "            color:  #000000;\n",
       "        }    #T_25e742ae_2ab4_11eb_9691_28f10e09ab6drow33_col1 {\n",
       "            background-color:  #ffdfdf;\n",
       "            color:  #000000;\n",
       "        }    #T_25e742ae_2ab4_11eb_9691_28f10e09ab6drow34_col1 {\n",
       "            background-color:  #ffdfdf;\n",
       "            color:  #000000;\n",
       "        }    #T_25e742ae_2ab4_11eb_9691_28f10e09ab6drow35_col1 {\n",
       "            background-color:  #ffe0e0;\n",
       "            color:  #000000;\n",
       "        }    #T_25e742ae_2ab4_11eb_9691_28f10e09ab6drow36_col1 {\n",
       "            background-color:  #ffe0e0;\n",
       "            color:  #000000;\n",
       "        }    #T_25e742ae_2ab4_11eb_9691_28f10e09ab6drow37_col1 {\n",
       "            background-color:  #ffe1e1;\n",
       "            color:  #000000;\n",
       "        }    #T_25e742ae_2ab4_11eb_9691_28f10e09ab6drow38_col1 {\n",
       "            background-color:  #ffe2e2;\n",
       "            color:  #000000;\n",
       "        }    #T_25e742ae_2ab4_11eb_9691_28f10e09ab6drow39_col1 {\n",
       "            background-color:  #ffe3e3;\n",
       "            color:  #000000;\n",
       "        }    #T_25e742ae_2ab4_11eb_9691_28f10e09ab6drow40_col1 {\n",
       "            background-color:  #ffe3e3;\n",
       "            color:  #000000;\n",
       "        }    #T_25e742ae_2ab4_11eb_9691_28f10e09ab6drow41_col1 {\n",
       "            background-color:  #ffe3e3;\n",
       "            color:  #000000;\n",
       "        }    #T_25e742ae_2ab4_11eb_9691_28f10e09ab6drow42_col1 {\n",
       "            background-color:  #ffe5e5;\n",
       "            color:  #000000;\n",
       "        }    #T_25e742ae_2ab4_11eb_9691_28f10e09ab6drow43_col1 {\n",
       "            background-color:  #ffe5e5;\n",
       "            color:  #000000;\n",
       "        }    #T_25e742ae_2ab4_11eb_9691_28f10e09ab6drow44_col1 {\n",
       "            background-color:  #ffe5e5;\n",
       "            color:  #000000;\n",
       "        }    #T_25e742ae_2ab4_11eb_9691_28f10e09ab6drow45_col1 {\n",
       "            background-color:  #ffe5e5;\n",
       "            color:  #000000;\n",
       "        }    #T_25e742ae_2ab4_11eb_9691_28f10e09ab6drow46_col1 {\n",
       "            background-color:  #ffe5e5;\n",
       "            color:  #000000;\n",
       "        }    #T_25e742ae_2ab4_11eb_9691_28f10e09ab6drow47_col1 {\n",
       "            background-color:  #ffe5e5;\n",
       "            color:  #000000;\n",
       "        }    #T_25e742ae_2ab4_11eb_9691_28f10e09ab6drow48_col1 {\n",
       "            background-color:  #ffe5e5;\n",
       "            color:  #000000;\n",
       "        }    #T_25e742ae_2ab4_11eb_9691_28f10e09ab6drow49_col1 {\n",
       "            background-color:  #ffe5e5;\n",
       "            color:  #000000;\n",
       "        }</style><table id=\"T_25e742ae_2ab4_11eb_9691_28f10e09ab6d\" ><thead>    <tr>        <th class=\"blank level0\" ></th>        <th class=\"col_heading level0 col0\" >Word</th>        <th class=\"col_heading level0 col1\" >Frequency</th>        <th class=\"col_heading level0 col2\" >Counts</th>    </tr></thead><tbody>\n",
       "                <tr>\n",
       "                        <th id=\"T_25e742ae_2ab4_11eb_9691_28f10e09ab6dlevel0_row0\" class=\"row_heading level0 row0\" >1</th>\n",
       "                        <td id=\"T_25e742ae_2ab4_11eb_9691_28f10e09ab6drow0_col0\" class=\"data row0 col0\" >the</td>\n",
       "                        <td id=\"T_25e742ae_2ab4_11eb_9691_28f10e09ab6drow0_col1\" class=\"data row0 col1\" >0.054400</td>\n",
       "                        <td id=\"T_25e742ae_2ab4_11eb_9691_28f10e09ab6drow0_col2\" class=\"data row0 col2\" >4764 times</td>\n",
       "            </tr>\n",
       "            <tr>\n",
       "                        <th id=\"T_25e742ae_2ab4_11eb_9691_28f10e09ab6dlevel0_row1\" class=\"row_heading level0 row1\" >2</th>\n",
       "                        <td id=\"T_25e742ae_2ab4_11eb_9691_28f10e09ab6drow1_col0\" class=\"data row1 col0\" >of</td>\n",
       "                        <td id=\"T_25e742ae_2ab4_11eb_9691_28f10e09ab6drow1_col1\" class=\"data row1 col1\" >0.026500</td>\n",
       "                        <td id=\"T_25e742ae_2ab4_11eb_9691_28f10e09ab6drow1_col2\" class=\"data row1 col2\" >2325 times</td>\n",
       "            </tr>\n",
       "            <tr>\n",
       "                        <th id=\"T_25e742ae_2ab4_11eb_9691_28f10e09ab6dlevel0_row2\" class=\"row_heading level0 row2\" >3</th>\n",
       "                        <td id=\"T_25e742ae_2ab4_11eb_9691_28f10e09ab6drow2_col0\" class=\"data row2 col0\" >to</td>\n",
       "                        <td id=\"T_25e742ae_2ab4_11eb_9691_28f10e09ab6drow2_col1\" class=\"data row2 col1\" >0.024900</td>\n",
       "                        <td id=\"T_25e742ae_2ab4_11eb_9691_28f10e09ab6drow2_col2\" class=\"data row2 col2\" >2182 times</td>\n",
       "            </tr>\n",
       "            <tr>\n",
       "                        <th id=\"T_25e742ae_2ab4_11eb_9691_28f10e09ab6dlevel0_row3\" class=\"row_heading level0 row3\" >4</th>\n",
       "                        <td id=\"T_25e742ae_2ab4_11eb_9691_28f10e09ab6drow3_col0\" class=\"data row3 col0\" >a</td>\n",
       "                        <td id=\"T_25e742ae_2ab4_11eb_9691_28f10e09ab6drow3_col1\" class=\"data row3 col1\" >0.022900</td>\n",
       "                        <td id=\"T_25e742ae_2ab4_11eb_9691_28f10e09ab6drow3_col2\" class=\"data row3 col2\" >2006 times</td>\n",
       "            </tr>\n",
       "            <tr>\n",
       "                        <th id=\"T_25e742ae_2ab4_11eb_9691_28f10e09ab6dlevel0_row4\" class=\"row_heading level0 row4\" >5</th>\n",
       "                        <td id=\"T_25e742ae_2ab4_11eb_9691_28f10e09ab6drow4_col0\" class=\"data row4 col0\" >in</td>\n",
       "                        <td id=\"T_25e742ae_2ab4_11eb_9691_28f10e09ab6drow4_col1\" class=\"data row4 col1\" >0.020200</td>\n",
       "                        <td id=\"T_25e742ae_2ab4_11eb_9691_28f10e09ab6drow4_col2\" class=\"data row4 col2\" >1769 times</td>\n",
       "            </tr>\n",
       "            <tr>\n",
       "                        <th id=\"T_25e742ae_2ab4_11eb_9691_28f10e09ab6dlevel0_row5\" class=\"row_heading level0 row5\" >6</th>\n",
       "                        <td id=\"T_25e742ae_2ab4_11eb_9691_28f10e09ab6drow5_col0\" class=\"data row5 col0\" >and</td>\n",
       "                        <td id=\"T_25e742ae_2ab4_11eb_9691_28f10e09ab6drow5_col1\" class=\"data row5 col1\" >0.017800</td>\n",
       "                        <td id=\"T_25e742ae_2ab4_11eb_9691_28f10e09ab6drow5_col2\" class=\"data row5 col2\" >1556 times</td>\n",
       "            </tr>\n",
       "            <tr>\n",
       "                        <th id=\"T_25e742ae_2ab4_11eb_9691_28f10e09ab6dlevel0_row6\" class=\"row_heading level0 row6\" >7</th>\n",
       "                        <td id=\"T_25e742ae_2ab4_11eb_9691_28f10e09ab6drow6_col0\" class=\"data row6 col0\" >1</td>\n",
       "                        <td id=\"T_25e742ae_2ab4_11eb_9691_28f10e09ab6drow6_col1\" class=\"data row6 col1\" >0.013300</td>\n",
       "                        <td id=\"T_25e742ae_2ab4_11eb_9691_28f10e09ab6drow6_col2\" class=\"data row6 col2\" >1166 times</td>\n",
       "            </tr>\n",
       "            <tr>\n",
       "                        <th id=\"T_25e742ae_2ab4_11eb_9691_28f10e09ab6dlevel0_row7\" class=\"row_heading level0 row7\" >8</th>\n",
       "                        <td id=\"T_25e742ae_2ab4_11eb_9691_28f10e09ab6drow7_col0\" class=\"data row7 col0\" >0</td>\n",
       "                        <td id=\"T_25e742ae_2ab4_11eb_9691_28f10e09ab6drow7_col1\" class=\"data row7 col1\" >0.012500</td>\n",
       "                        <td id=\"T_25e742ae_2ab4_11eb_9691_28f10e09ab6drow7_col2\" class=\"data row7 col2\" >1099 times</td>\n",
       "            </tr>\n",
       "            <tr>\n",
       "                        <th id=\"T_25e742ae_2ab4_11eb_9691_28f10e09ab6dlevel0_row8\" class=\"row_heading level0 row8\" >9</th>\n",
       "                        <td id=\"T_25e742ae_2ab4_11eb_9691_28f10e09ab6drow8_col0\" class=\"data row8 col0\" >s</td>\n",
       "                        <td id=\"T_25e742ae_2ab4_11eb_9691_28f10e09ab6drow8_col1\" class=\"data row8 col1\" >0.009900</td>\n",
       "                        <td id=\"T_25e742ae_2ab4_11eb_9691_28f10e09ab6drow8_col2\" class=\"data row8 col2\" >869 times</td>\n",
       "            </tr>\n",
       "            <tr>\n",
       "                        <th id=\"T_25e742ae_2ab4_11eb_9691_28f10e09ab6dlevel0_row9\" class=\"row_heading level0 row9\" >10</th>\n",
       "                        <td id=\"T_25e742ae_2ab4_11eb_9691_28f10e09ab6drow9_col0\" class=\"data row9 col0\" >for</td>\n",
       "                        <td id=\"T_25e742ae_2ab4_11eb_9691_28f10e09ab6drow9_col1\" class=\"data row9 col1\" >0.009700</td>\n",
       "                        <td id=\"T_25e742ae_2ab4_11eb_9691_28f10e09ab6drow9_col2\" class=\"data row9 col2\" >853 times</td>\n",
       "            </tr>\n",
       "            <tr>\n",
       "                        <th id=\"T_25e742ae_2ab4_11eb_9691_28f10e09ab6dlevel0_row10\" class=\"row_heading level0 row10\" >11</th>\n",
       "                        <td id=\"T_25e742ae_2ab4_11eb_9691_28f10e09ab6drow10_col0\" class=\"data row10 col0\" >that</td>\n",
       "                        <td id=\"T_25e742ae_2ab4_11eb_9691_28f10e09ab6drow10_col1\" class=\"data row10 col1\" >0.009700</td>\n",
       "                        <td id=\"T_25e742ae_2ab4_11eb_9691_28f10e09ab6drow10_col2\" class=\"data row10 col2\" >848 times</td>\n",
       "            </tr>\n",
       "            <tr>\n",
       "                        <th id=\"T_25e742ae_2ab4_11eb_9691_28f10e09ab6dlevel0_row11\" class=\"row_heading level0 row11\" >12</th>\n",
       "                        <td id=\"T_25e742ae_2ab4_11eb_9691_28f10e09ab6drow11_col0\" class=\"data row11 col0\" >t1</td>\n",
       "                        <td id=\"T_25e742ae_2ab4_11eb_9691_28f10e09ab6drow11_col1\" class=\"data row11 col1\" >0.009200</td>\n",
       "                        <td id=\"T_25e742ae_2ab4_11eb_9691_28f10e09ab6drow11_col2\" class=\"data row11 col2\" >806 times</td>\n",
       "            </tr>\n",
       "            <tr>\n",
       "                        <th id=\"T_25e742ae_2ab4_11eb_9691_28f10e09ab6dlevel0_row12\" class=\"row_heading level0 row12\" >13</th>\n",
       "                        <td id=\"T_25e742ae_2ab4_11eb_9691_28f10e09ab6drow12_col0\" class=\"data row12 col0\" >u</td>\n",
       "                        <td id=\"T_25e742ae_2ab4_11eb_9691_28f10e09ab6drow12_col1\" class=\"data row12 col1\" >0.008500</td>\n",
       "                        <td id=\"T_25e742ae_2ab4_11eb_9691_28f10e09ab6drow12_col2\" class=\"data row12 col2\" >744 times</td>\n",
       "            </tr>\n",
       "            <tr>\n",
       "                        <th id=\"T_25e742ae_2ab4_11eb_9691_28f10e09ab6dlevel0_row13\" class=\"row_heading level0 row13\" >14</th>\n",
       "                        <td id=\"T_25e742ae_2ab4_11eb_9691_28f10e09ab6drow13_col0\" class=\"data row13 col0\" >is</td>\n",
       "                        <td id=\"T_25e742ae_2ab4_11eb_9691_28f10e09ab6drow13_col1\" class=\"data row13 col1\" >0.007700</td>\n",
       "                        <td id=\"T_25e742ae_2ab4_11eb_9691_28f10e09ab6drow13_col2\" class=\"data row13 col2\" >672 times</td>\n",
       "            </tr>\n",
       "            <tr>\n",
       "                        <th id=\"T_25e742ae_2ab4_11eb_9691_28f10e09ab6dlevel0_row14\" class=\"row_heading level0 row14\" >15</th>\n",
       "                        <td id=\"T_25e742ae_2ab4_11eb_9691_28f10e09ab6drow14_col0\" class=\"data row14 col0\" >said</td>\n",
       "                        <td id=\"T_25e742ae_2ab4_11eb_9691_28f10e09ab6drow14_col1\" class=\"data row14 col1\" >0.007200</td>\n",
       "                        <td id=\"T_25e742ae_2ab4_11eb_9691_28f10e09ab6drow14_col2\" class=\"data row14 col2\" >628 times</td>\n",
       "            </tr>\n",
       "            <tr>\n",
       "                        <th id=\"T_25e742ae_2ab4_11eb_9691_28f10e09ab6dlevel0_row15\" class=\"row_heading level0 row15\" >16</th>\n",
       "                        <td id=\"T_25e742ae_2ab4_11eb_9691_28f10e09ab6drow15_col0\" class=\"data row15 col0\" >it</td>\n",
       "                        <td id=\"T_25e742ae_2ab4_11eb_9691_28f10e09ab6drow15_col1\" class=\"data row15 col1\" >0.006600</td>\n",
       "                        <td id=\"T_25e742ae_2ab4_11eb_9691_28f10e09ab6drow15_col2\" class=\"data row15 col2\" >577 times</td>\n",
       "            </tr>\n",
       "            <tr>\n",
       "                        <th id=\"T_25e742ae_2ab4_11eb_9691_28f10e09ab6dlevel0_row16\" class=\"row_heading level0 row16\" >17</th>\n",
       "                        <td id=\"T_25e742ae_2ab4_11eb_9691_28f10e09ab6drow16_col0\" class=\"data row16 col0\" >on</td>\n",
       "                        <td id=\"T_25e742ae_2ab4_11eb_9691_28f10e09ab6drow16_col1\" class=\"data row16 col1\" >0.005800</td>\n",
       "                        <td id=\"T_25e742ae_2ab4_11eb_9691_28f10e09ab6drow16_col2\" class=\"data row16 col2\" >508 times</td>\n",
       "            </tr>\n",
       "            <tr>\n",
       "                        <th id=\"T_25e742ae_2ab4_11eb_9691_28f10e09ab6dlevel0_row17\" class=\"row_heading level0 row17\" >18</th>\n",
       "                        <td id=\"T_25e742ae_2ab4_11eb_9691_28f10e09ab6drow17_col0\" class=\"data row17 col0\" >by</td>\n",
       "                        <td id=\"T_25e742ae_2ab4_11eb_9691_28f10e09ab6drow17_col1\" class=\"data row17 col1\" >0.005000</td>\n",
       "                        <td id=\"T_25e742ae_2ab4_11eb_9691_28f10e09ab6drow17_col2\" class=\"data row17 col2\" >440 times</td>\n",
       "            </tr>\n",
       "            <tr>\n",
       "                        <th id=\"T_25e742ae_2ab4_11eb_9691_28f10e09ab6dlevel0_row18\" class=\"row_heading level0 row18\" >19</th>\n",
       "                        <td id=\"T_25e742ae_2ab4_11eb_9691_28f10e09ab6drow18_col0\" class=\"data row18 col0\" >at</td>\n",
       "                        <td id=\"T_25e742ae_2ab4_11eb_9691_28f10e09ab6drow18_col1\" class=\"data row18 col1\" >0.004900</td>\n",
       "                        <td id=\"T_25e742ae_2ab4_11eb_9691_28f10e09ab6drow18_col2\" class=\"data row18 col2\" >430 times</td>\n",
       "            </tr>\n",
       "            <tr>\n",
       "                        <th id=\"T_25e742ae_2ab4_11eb_9691_28f10e09ab6dlevel0_row19\" class=\"row_heading level0 row19\" >20</th>\n",
       "                        <td id=\"T_25e742ae_2ab4_11eb_9691_28f10e09ab6drow19_col0\" class=\"data row19 col0\" >as</td>\n",
       "                        <td id=\"T_25e742ae_2ab4_11eb_9691_28f10e09ab6drow19_col1\" class=\"data row19 col1\" >0.004700</td>\n",
       "                        <td id=\"T_25e742ae_2ab4_11eb_9691_28f10e09ab6drow19_col2\" class=\"data row19 col2\" >415 times</td>\n",
       "            </tr>\n",
       "            <tr>\n",
       "                        <th id=\"T_25e742ae_2ab4_11eb_9691_28f10e09ab6dlevel0_row20\" class=\"row_heading level0 row20\" >21</th>\n",
       "                        <td id=\"T_25e742ae_2ab4_11eb_9691_28f10e09ab6drow20_col0\" class=\"data row20 col0\" >2</td>\n",
       "                        <td id=\"T_25e742ae_2ab4_11eb_9691_28f10e09ab6drow20_col1\" class=\"data row20 col1\" >0.004600</td>\n",
       "                        <td id=\"T_25e742ae_2ab4_11eb_9691_28f10e09ab6drow20_col2\" class=\"data row20 col2\" >402 times</td>\n",
       "            </tr>\n",
       "            <tr>\n",
       "                        <th id=\"T_25e742ae_2ab4_11eb_9691_28f10e09ab6dlevel0_row21\" class=\"row_heading level0 row21\" >22</th>\n",
       "                        <td id=\"T_25e742ae_2ab4_11eb_9691_28f10e09ab6drow21_col0\" class=\"data row21 col0\" >with</td>\n",
       "                        <td id=\"T_25e742ae_2ab4_11eb_9691_28f10e09ab6drow21_col1\" class=\"data row21 col1\" >0.004500</td>\n",
       "                        <td id=\"T_25e742ae_2ab4_11eb_9691_28f10e09ab6drow21_col2\" class=\"data row21 col2\" >398 times</td>\n",
       "            </tr>\n",
       "            <tr>\n",
       "                        <th id=\"T_25e742ae_2ab4_11eb_9691_28f10e09ab6dlevel0_row22\" class=\"row_heading level0 row22\" >23</th>\n",
       "                        <td id=\"T_25e742ae_2ab4_11eb_9691_28f10e09ab6drow22_col0\" class=\"data row22 col0\" >from</td>\n",
       "                        <td id=\"T_25e742ae_2ab4_11eb_9691_28f10e09ab6drow22_col1\" class=\"data row22 col1\" >0.004500</td>\n",
       "                        <td id=\"T_25e742ae_2ab4_11eb_9691_28f10e09ab6drow22_col2\" class=\"data row22 col2\" >391 times</td>\n",
       "            </tr>\n",
       "            <tr>\n",
       "                        <th id=\"T_25e742ae_2ab4_11eb_9691_28f10e09ab6dlevel0_row23\" class=\"row_heading level0 row23\" >24</th>\n",
       "                        <td id=\"T_25e742ae_2ab4_11eb_9691_28f10e09ab6drow23_col0\" class=\"data row23 col0\" >million</td>\n",
       "                        <td id=\"T_25e742ae_2ab4_11eb_9691_28f10e09ab6drow23_col1\" class=\"data row23 col1\" >0.004400</td>\n",
       "                        <td id=\"T_25e742ae_2ab4_11eb_9691_28f10e09ab6drow23_col2\" class=\"data row23 col2\" >383 times</td>\n",
       "            </tr>\n",
       "            <tr>\n",
       "                        <th id=\"T_25e742ae_2ab4_11eb_9691_28f10e09ab6dlevel0_row24\" class=\"row_heading level0 row24\" >25</th>\n",
       "                        <td id=\"T_25e742ae_2ab4_11eb_9691_28f10e09ab6drow24_col0\" class=\"data row24 col0\" >mr</td>\n",
       "                        <td id=\"T_25e742ae_2ab4_11eb_9691_28f10e09ab6drow24_col1\" class=\"data row24 col1\" >0.004300</td>\n",
       "                        <td id=\"T_25e742ae_2ab4_11eb_9691_28f10e09ab6drow24_col2\" class=\"data row24 col2\" >375 times</td>\n",
       "            </tr>\n",
       "            <tr>\n",
       "                        <th id=\"T_25e742ae_2ab4_11eb_9691_28f10e09ab6dlevel0_row25\" class=\"row_heading level0 row25\" >26</th>\n",
       "                        <td id=\"T_25e742ae_2ab4_11eb_9691_28f10e09ab6drow25_col0\" class=\"data row25 col0\" >are</td>\n",
       "                        <td id=\"T_25e742ae_2ab4_11eb_9691_28f10e09ab6drow25_col1\" class=\"data row25 col1\" >0.004200</td>\n",
       "                        <td id=\"T_25e742ae_2ab4_11eb_9691_28f10e09ab6drow25_col2\" class=\"data row25 col2\" >369 times</td>\n",
       "            </tr>\n",
       "            <tr>\n",
       "                        <th id=\"T_25e742ae_2ab4_11eb_9691_28f10e09ab6dlevel0_row26\" class=\"row_heading level0 row26\" >27</th>\n",
       "                        <td id=\"T_25e742ae_2ab4_11eb_9691_28f10e09ab6drow26_col0\" class=\"data row26 col0\" >was</td>\n",
       "                        <td id=\"T_25e742ae_2ab4_11eb_9691_28f10e09ab6drow26_col1\" class=\"data row26 col1\" >0.004200</td>\n",
       "                        <td id=\"T_25e742ae_2ab4_11eb_9691_28f10e09ab6drow26_col2\" class=\"data row26 col2\" >367 times</td>\n",
       "            </tr>\n",
       "            <tr>\n",
       "                        <th id=\"T_25e742ae_2ab4_11eb_9691_28f10e09ab6dlevel0_row27\" class=\"row_heading level0 row27\" >28</th>\n",
       "                        <td id=\"T_25e742ae_2ab4_11eb_9691_28f10e09ab6drow27_col0\" class=\"data row27 col0\" >be</td>\n",
       "                        <td id=\"T_25e742ae_2ab4_11eb_9691_28f10e09ab6drow27_col1\" class=\"data row27 col1\" >0.004100</td>\n",
       "                        <td id=\"T_25e742ae_2ab4_11eb_9691_28f10e09ab6drow27_col2\" class=\"data row27 col2\" >356 times</td>\n",
       "            </tr>\n",
       "            <tr>\n",
       "                        <th id=\"T_25e742ae_2ab4_11eb_9691_28f10e09ab6dlevel0_row28\" class=\"row_heading level0 row28\" >29</th>\n",
       "                        <td id=\"T_25e742ae_2ab4_11eb_9691_28f10e09ab6drow28_col0\" class=\"data row28 col0\" >t2</td>\n",
       "                        <td id=\"T_25e742ae_2ab4_11eb_9691_28f10e09ab6drow28_col1\" class=\"data row28 col1\" >0.003900</td>\n",
       "                        <td id=\"T_25e742ae_2ab4_11eb_9691_28f10e09ab6drow28_col2\" class=\"data row28 col2\" >345 times</td>\n",
       "            </tr>\n",
       "            <tr>\n",
       "                        <th id=\"T_25e742ae_2ab4_11eb_9691_28f10e09ab6dlevel0_row29\" class=\"row_heading level0 row29\" >30</th>\n",
       "                        <td id=\"T_25e742ae_2ab4_11eb_9691_28f10e09ab6drow29_col0\" class=\"data row29 col0\" >its</td>\n",
       "                        <td id=\"T_25e742ae_2ab4_11eb_9691_28f10e09ab6drow29_col1\" class=\"data row29 col1\" >0.003900</td>\n",
       "                        <td id=\"T_25e742ae_2ab4_11eb_9691_28f10e09ab6drow29_col2\" class=\"data row29 col2\" >343 times</td>\n",
       "            </tr>\n",
       "            <tr>\n",
       "                        <th id=\"T_25e742ae_2ab4_11eb_9691_28f10e09ab6dlevel0_row30\" class=\"row_heading level0 row30\" >31</th>\n",
       "                        <td id=\"T_25e742ae_2ab4_11eb_9691_28f10e09ab6drow30_col0\" class=\"data row30 col0\" >has</td>\n",
       "                        <td id=\"T_25e742ae_2ab4_11eb_9691_28f10e09ab6drow30_col1\" class=\"data row30 col1\" >0.003900</td>\n",
       "                        <td id=\"T_25e742ae_2ab4_11eb_9691_28f10e09ab6drow30_col2\" class=\"data row30 col2\" >339 times</td>\n",
       "            </tr>\n",
       "            <tr>\n",
       "                        <th id=\"T_25e742ae_2ab4_11eb_9691_28f10e09ab6dlevel0_row31\" class=\"row_heading level0 row31\" >32</th>\n",
       "                        <td id=\"T_25e742ae_2ab4_11eb_9691_28f10e09ab6drow31_col0\" class=\"data row31 col0\" >an</td>\n",
       "                        <td id=\"T_25e742ae_2ab4_11eb_9691_28f10e09ab6drow31_col1\" class=\"data row31 col1\" >0.003800</td>\n",
       "                        <td id=\"T_25e742ae_2ab4_11eb_9691_28f10e09ab6drow31_col2\" class=\"data row31 col2\" >335 times</td>\n",
       "            </tr>\n",
       "            <tr>\n",
       "                        <th id=\"T_25e742ae_2ab4_11eb_9691_28f10e09ab6dlevel0_row32\" class=\"row_heading level0 row32\" >33</th>\n",
       "                        <td id=\"T_25e742ae_2ab4_11eb_9691_28f10e09ab6drow32_col0\" class=\"data row32 col0\" >new</td>\n",
       "                        <td id=\"T_25e742ae_2ab4_11eb_9691_28f10e09ab6drow32_col1\" class=\"data row32 col1\" >0.003700</td>\n",
       "                        <td id=\"T_25e742ae_2ab4_11eb_9691_28f10e09ab6drow32_col2\" class=\"data row32 col2\" >328 times</td>\n",
       "            </tr>\n",
       "            <tr>\n",
       "                        <th id=\"T_25e742ae_2ab4_11eb_9691_28f10e09ab6dlevel0_row33\" class=\"row_heading level0 row33\" >34</th>\n",
       "                        <td id=\"T_25e742ae_2ab4_11eb_9691_28f10e09ab6drow33_col0\" class=\"data row33 col0\" >have</td>\n",
       "                        <td id=\"T_25e742ae_2ab4_11eb_9691_28f10e09ab6drow33_col1\" class=\"data row33 col1\" >0.003700</td>\n",
       "                        <td id=\"T_25e742ae_2ab4_11eb_9691_28f10e09ab6drow33_col2\" class=\"data row33 col2\" >325 times</td>\n",
       "            </tr>\n",
       "            <tr>\n",
       "                        <th id=\"T_25e742ae_2ab4_11eb_9691_28f10e09ab6dlevel0_row34\" class=\"row_heading level0 row34\" >35</th>\n",
       "                        <td id=\"T_25e742ae_2ab4_11eb_9691_28f10e09ab6drow34_col0\" class=\"data row34 col0\" >nt</td>\n",
       "                        <td id=\"T_25e742ae_2ab4_11eb_9691_28f10e09ab6drow34_col1\" class=\"data row34 col1\" >0.003700</td>\n",
       "                        <td id=\"T_25e742ae_2ab4_11eb_9691_28f10e09ab6drow34_col2\" class=\"data row34 col2\" >325 times</td>\n",
       "            </tr>\n",
       "            <tr>\n",
       "                        <th id=\"T_25e742ae_2ab4_11eb_9691_28f10e09ab6dlevel0_row35\" class=\"row_heading level0 row35\" >36</th>\n",
       "                        <td id=\"T_25e742ae_2ab4_11eb_9691_28f10e09ab6drow35_col0\" class=\"data row35 col0\" >but</td>\n",
       "                        <td id=\"T_25e742ae_2ab4_11eb_9691_28f10e09ab6drow35_col1\" class=\"data row35 col1\" >0.003500</td>\n",
       "                        <td id=\"T_25e742ae_2ab4_11eb_9691_28f10e09ab6drow35_col2\" class=\"data row35 col2\" >309 times</td>\n",
       "            </tr>\n",
       "            <tr>\n",
       "                        <th id=\"T_25e742ae_2ab4_11eb_9691_28f10e09ab6dlevel0_row36\" class=\"row_heading level0 row36\" >37</th>\n",
       "                        <td id=\"T_25e742ae_2ab4_11eb_9691_28f10e09ab6drow36_col0\" class=\"data row36 col0\" >he</td>\n",
       "                        <td id=\"T_25e742ae_2ab4_11eb_9691_28f10e09ab6drow36_col1\" class=\"data row36 col1\" >0.003500</td>\n",
       "                        <td id=\"T_25e742ae_2ab4_11eb_9691_28f10e09ab6drow36_col2\" class=\"data row36 col2\" >303 times</td>\n",
       "            </tr>\n",
       "            <tr>\n",
       "                        <th id=\"T_25e742ae_2ab4_11eb_9691_28f10e09ab6dlevel0_row37\" class=\"row_heading level0 row37\" >38</th>\n",
       "                        <td id=\"T_25e742ae_2ab4_11eb_9691_28f10e09ab6drow37_col0\" class=\"data row37 col0\" >or</td>\n",
       "                        <td id=\"T_25e742ae_2ab4_11eb_9691_28f10e09ab6drow37_col1\" class=\"data row37 col1\" >0.003400</td>\n",
       "                        <td id=\"T_25e742ae_2ab4_11eb_9691_28f10e09ab6drow37_col2\" class=\"data row37 col2\" >294 times</td>\n",
       "            </tr>\n",
       "            <tr>\n",
       "                        <th id=\"T_25e742ae_2ab4_11eb_9691_28f10e09ab6dlevel0_row38\" class=\"row_heading level0 row38\" >39</th>\n",
       "                        <td id=\"T_25e742ae_2ab4_11eb_9691_28f10e09ab6drow38_col0\" class=\"data row38 col0\" >will</td>\n",
       "                        <td id=\"T_25e742ae_2ab4_11eb_9691_28f10e09ab6drow38_col1\" class=\"data row38 col1\" >0.003200</td>\n",
       "                        <td id=\"T_25e742ae_2ab4_11eb_9691_28f10e09ab6drow38_col2\" class=\"data row38 col2\" >281 times</td>\n",
       "            </tr>\n",
       "            <tr>\n",
       "                        <th id=\"T_25e742ae_2ab4_11eb_9691_28f10e09ab6dlevel0_row39\" class=\"row_heading level0 row39\" >40</th>\n",
       "                        <td id=\"T_25e742ae_2ab4_11eb_9691_28f10e09ab6drow39_col0\" class=\"data row39 col0\" >they</td>\n",
       "                        <td id=\"T_25e742ae_2ab4_11eb_9691_28f10e09ab6drow39_col1\" class=\"data row39 col1\" >0.003000</td>\n",
       "                        <td id=\"T_25e742ae_2ab4_11eb_9691_28f10e09ab6drow39_col2\" class=\"data row39 col2\" >263 times</td>\n",
       "            </tr>\n",
       "            <tr>\n",
       "                        <th id=\"T_25e742ae_2ab4_11eb_9691_28f10e09ab6dlevel0_row40\" class=\"row_heading level0 row40\" >41</th>\n",
       "                        <td id=\"T_25e742ae_2ab4_11eb_9691_28f10e09ab6drow40_col0\" class=\"data row40 col0\" >company</td>\n",
       "                        <td id=\"T_25e742ae_2ab4_11eb_9691_28f10e09ab6drow40_col1\" class=\"data row40 col1\" >0.003000</td>\n",
       "                        <td id=\"T_25e742ae_2ab4_11eb_9691_28f10e09ab6drow40_col2\" class=\"data row40 col2\" >260 times</td>\n",
       "            </tr>\n",
       "            <tr>\n",
       "                        <th id=\"T_25e742ae_2ab4_11eb_9691_28f10e09ab6dlevel0_row41\" class=\"row_heading level0 row41\" >42</th>\n",
       "                        <td id=\"T_25e742ae_2ab4_11eb_9691_28f10e09ab6drow41_col0\" class=\"data row41 col0\" >us</td>\n",
       "                        <td id=\"T_25e742ae_2ab4_11eb_9691_28f10e09ab6drow41_col1\" class=\"data row41 col1\" >0.002900</td>\n",
       "                        <td id=\"T_25e742ae_2ab4_11eb_9691_28f10e09ab6drow41_col2\" class=\"data row41 col2\" >253 times</td>\n",
       "            </tr>\n",
       "            <tr>\n",
       "                        <th id=\"T_25e742ae_2ab4_11eb_9691_28f10e09ab6dlevel0_row42\" class=\"row_heading level0 row42\" >43</th>\n",
       "                        <td id=\"T_25e742ae_2ab4_11eb_9691_28f10e09ab6drow42_col0\" class=\"data row42 col0\" >which</td>\n",
       "                        <td id=\"T_25e742ae_2ab4_11eb_9691_28f10e09ab6drow42_col1\" class=\"data row42 col1\" >0.002600</td>\n",
       "                        <td id=\"T_25e742ae_2ab4_11eb_9691_28f10e09ab6drow42_col2\" class=\"data row42 col2\" >225 times</td>\n",
       "            </tr>\n",
       "            <tr>\n",
       "                        <th id=\"T_25e742ae_2ab4_11eb_9691_28f10e09ab6dlevel0_row43\" class=\"row_heading level0 row43\" >44</th>\n",
       "                        <td id=\"T_25e742ae_2ab4_11eb_9691_28f10e09ab6drow43_col0\" class=\"data row43 col0\" >this</td>\n",
       "                        <td id=\"T_25e742ae_2ab4_11eb_9691_28f10e09ab6drow43_col1\" class=\"data row43 col1\" >0.002600</td>\n",
       "                        <td id=\"T_25e742ae_2ab4_11eb_9691_28f10e09ab6drow43_col2\" class=\"data row43 col2\" >224 times</td>\n",
       "            </tr>\n",
       "            <tr>\n",
       "                        <th id=\"T_25e742ae_2ab4_11eb_9691_28f10e09ab6dlevel0_row44\" class=\"row_heading level0 row44\" >45</th>\n",
       "                        <td id=\"T_25e742ae_2ab4_11eb_9691_28f10e09ab6drow44_col0\" class=\"data row44 col0\" >says</td>\n",
       "                        <td id=\"T_25e742ae_2ab4_11eb_9691_28f10e09ab6drow44_col1\" class=\"data row44 col1\" >0.002500</td>\n",
       "                        <td id=\"T_25e742ae_2ab4_11eb_9691_28f10e09ab6drow44_col2\" class=\"data row44 col2\" >217 times</td>\n",
       "            </tr>\n",
       "            <tr>\n",
       "                        <th id=\"T_25e742ae_2ab4_11eb_9691_28f10e09ab6dlevel0_row45\" class=\"row_heading level0 row45\" >46</th>\n",
       "                        <td id=\"T_25e742ae_2ab4_11eb_9691_28f10e09ab6drow45_col0\" class=\"data row45 col0\" >year</td>\n",
       "                        <td id=\"T_25e742ae_2ab4_11eb_9691_28f10e09ab6drow45_col1\" class=\"data row45 col1\" >0.002400</td>\n",
       "                        <td id=\"T_25e742ae_2ab4_11eb_9691_28f10e09ab6drow45_col2\" class=\"data row45 col2\" >214 times</td>\n",
       "            </tr>\n",
       "            <tr>\n",
       "                        <th id=\"T_25e742ae_2ab4_11eb_9691_28f10e09ab6dlevel0_row46\" class=\"row_heading level0 row46\" >47</th>\n",
       "                        <td id=\"T_25e742ae_2ab4_11eb_9691_28f10e09ab6drow46_col0\" class=\"data row46 col0\" >about</td>\n",
       "                        <td id=\"T_25e742ae_2ab4_11eb_9691_28f10e09ab6drow46_col1\" class=\"data row46 col1\" >0.002400</td>\n",
       "                        <td id=\"T_25e742ae_2ab4_11eb_9691_28f10e09ab6drow46_col2\" class=\"data row46 col2\" >212 times</td>\n",
       "            </tr>\n",
       "            <tr>\n",
       "                        <th id=\"T_25e742ae_2ab4_11eb_9691_28f10e09ab6dlevel0_row47\" class=\"row_heading level0 row47\" >48</th>\n",
       "                        <td id=\"T_25e742ae_2ab4_11eb_9691_28f10e09ab6drow47_col0\" class=\"data row47 col0\" >would</td>\n",
       "                        <td id=\"T_25e742ae_2ab4_11eb_9691_28f10e09ab6drow47_col1\" class=\"data row47 col1\" >0.002400</td>\n",
       "                        <td id=\"T_25e742ae_2ab4_11eb_9691_28f10e09ab6drow47_col2\" class=\"data row47 col2\" >209 times</td>\n",
       "            </tr>\n",
       "            <tr>\n",
       "                        <th id=\"T_25e742ae_2ab4_11eb_9691_28f10e09ab6dlevel0_row48\" class=\"row_heading level0 row48\" >49</th>\n",
       "                        <td id=\"T_25e742ae_2ab4_11eb_9691_28f10e09ab6drow48_col0\" class=\"data row48 col0\" >more</td>\n",
       "                        <td id=\"T_25e742ae_2ab4_11eb_9691_28f10e09ab6drow48_col1\" class=\"data row48 col1\" >0.002300</td>\n",
       "                        <td id=\"T_25e742ae_2ab4_11eb_9691_28f10e09ab6drow48_col2\" class=\"data row48 col2\" >204 times</td>\n",
       "            </tr>\n",
       "            <tr>\n",
       "                        <th id=\"T_25e742ae_2ab4_11eb_9691_28f10e09ab6dlevel0_row49\" class=\"row_heading level0 row49\" >50</th>\n",
       "                        <td id=\"T_25e742ae_2ab4_11eb_9691_28f10e09ab6drow49_col0\" class=\"data row49 col0\" >were</td>\n",
       "                        <td id=\"T_25e742ae_2ab4_11eb_9691_28f10e09ab6drow49_col1\" class=\"data row49 col1\" >0.002200</td>\n",
       "                        <td id=\"T_25e742ae_2ab4_11eb_9691_28f10e09ab6drow49_col2\" class=\"data row49 col2\" >197 times</td>\n",
       "            </tr>\n",
       "    </tbody></table>"
      ],
      "text/plain": [
       "<pandas.io.formats.style.Styler at 0x21a17ffce48>"
      ]
     },
     "execution_count": 20,
     "metadata": {},
     "output_type": "execute_result"
    }
   ],
   "source": [
    "import pandas as pd\n",
    "import seaborn as sns\n",
    "\n",
    "cm = sns.light_palette(\"red\", as_cmap=True)\n",
    "\n",
    "most_common_words_amount=50\n",
    "\n",
    "data=[[word,float(u'{:.4f}'.format(counts/len(txt7_tkns_nopunct))),u'{} times'.format(counts)] \n",
    "      for word, counts in freq_dist.most_common(most_common_words_amount)]\n",
    "\n",
    "df = pd.DataFrame(data)\n",
    "df.index = range(1,most_common_words_amount+1)\n",
    "df.columns = [\"Word\", \"Frequency\", \"Counts\"]\n",
    "s = df.style.background_gradient(cmap=cm)\n",
    "s"
   ]
  },
  {
   "cell_type": "code",
   "execution_count": 21,
   "metadata": {},
   "outputs": [
    {
     "data": {
      "text/plain": [
       "'1'"
      ]
     },
     "execution_count": 21,
     "metadata": {},
     "output_type": "execute_result"
    }
   ],
   "source": [
    "freq_dist.most_common(most_common_words_amount)[7-1][0]"
   ]
  },
  {
   "cell_type": "raw",
   "metadata": {},
   "source": [
    "Checking whether there are any punctuations in most common words:"
   ]
  },
  {
   "cell_type": "code",
   "execution_count": 22,
   "metadata": {},
   "outputs": [
    {
     "name": "stdout",
     "output_type": "stream",
     "text": [
      "None\n"
     ]
    }
   ],
   "source": [
    "print(re.search(\"[^\\w]+\",freq_dist.most_common(most_common_words_amount)[0][0]))"
   ]
  },
  {
   "cell_type": "code",
   "execution_count": 23,
   "metadata": {},
   "outputs": [],
   "source": [
    "import matplotlib.pyplot as plt\n",
    "def plot_freqdist_freq(fd,\n",
    "                       max_num=None,\n",
    "                       cumulative=False,\n",
    "                       title='Frequency plot',\n",
    "                       linewidth=4):\n",
    "    plt.figure(figsize=(20, 10))\n",
    "    plt.rcParams.update({'font.size': 16})\n",
    "    tmp = fd.copy()\n",
    "    norm = fd.N()\n",
    "    for key in tmp.keys():\n",
    "        tmp[key] = float(fd[key]) / norm\n",
    "    f= plt\n",
    "    if max_num:\n",
    "        f= tmp.plot(max_num, cumulative=cumulative,\n",
    "                 title=title, linewidth=linewidth)\n",
    "\n",
    "    else:\n",
    "        f= tmp.plot(cumulative=cumulative,\n",
    "                 title=title,\n",
    "                 linewidth=linewidth)\n",
    "    return"
   ]
  },
  {
   "cell_type": "code",
   "execution_count": 24,
   "metadata": {
    "scrolled": false
   },
   "outputs": [
    {
     "data": {
      "image/png": "[encoded data removed]",
      "text/plain": [
       "<Figure size 1440x720 with 1 Axes>"
      ]
     },
     "metadata": {
      "needs_background": "light"
     },
     "output_type": "display_data"
    }
   ],
   "source": [
    "plot_freqdist_freq(freq_dist, max_num=most_common_words_amount)"
   ]
  },
  {
   "cell_type": "code",
   "execution_count": null,
   "metadata": {},
   "outputs": [],
   "source": []
  },
  {
   "cell_type": "code",
   "execution_count": null,
   "metadata": {},
   "outputs": [],
   "source": []
  }
 ],
 "metadata": {
  "kernelspec": {
   "display_name": "Python 3",
   "language": "python",
   "name": "python3"
  },
  "language_info": {
   "codemirror_mode": {
    "name": "ipython",
    "version": 3
   },
   "file_extension": ".py",
   "mimetype": "text/x-python",
   "name": "python",
   "nbconvert_exporter": "python",
   "pygments_lexer": "ipython3",
   "version": "3.7.6"
  }
 },
 "nbformat": 4,
 "nbformat_minor": 4
}
