{
 "cells": [
  {
   "cell_type": "raw",
   "metadata": {},
   "source": [
    "# Part 1: Regular expression (40%) (You can store your code in output part1_regularexpression_studentID.py\n",
    "\n",
    "• (20%) Write a regular expression that can find all amounts of money in a text. Your expression\n",
    "should be able to deal with different formats and currencies, for example £50,000 and\n",
    "£117.3m as well as 30p, 500m euro, 338bn euros, $15bn and $92.88. Make sure that you can\n",
    "at least detect amounts in Pounds, Dollars and Euros.\n",
    "\n",
    "For full marks: include the output of a Python program that applies your regular expression to the following BBC News Web site:\n",
    "https://www.bbc.co.uk/news/business-41779341"
   ]
  },
  {
   "cell_type": "code",
   "execution_count": 1,
   "metadata": {},
   "outputs": [],
   "source": [
    "import re\n",
    "import requests\n",
    "from bs4 import BeautifulSoup"
   ]
  },
  {
   "cell_type": "markdown",
   "metadata": {},
   "source": [
    "The 'url' variable below contains link to another BBC article not related to finances. This article is simply for a test."
   ]
  },
  {
   "cell_type": "code",
   "execution_count": 2,
   "metadata": {},
   "outputs": [],
   "source": [
    "site = \"https://www.bbc.co.uk/news/business-41779341\"\n",
    "url = 'https://www.bbc.co.uk/news/world-europe-49345912'"
   ]
  },
  {
   "cell_type": "code",
   "execution_count": 3,
   "metadata": {},
   "outputs": [],
   "source": [
    "response = requests.get(site)\n",
    "soup = BeautifulSoup(response.text, \"html.parser\")  # create a new bs4 object from the html data loaded\n",
    "\n",
    "for script in soup([\"script\", \"style\"]):  # remove all javascript and stylesheet code\n",
    "    script.decompose()\n",
    "\n",
    "text = ' '.join(soup.stripped_strings)\n",
    "strs=[]\n",
    "strs.append(text)\n",
    "\n",
    "money_tokens = list()\n",
    "for st in strs:\n",
    "    money_string = st\n",
    "    res = re.findall(\"(?:\\d+[.,]?\\d+[a-zA-Z]* [pPeEdD][uo][rlu]\\w+|\\d+[.,]?\\d+[a-zA-Z]*p|[^\\w\\s+\\-\\\"]\\d+[.,]?\\d+[a-zA-Z]*(?=[., )]))\", money_string)\n",
    "    if res != []:\n",
    "        money_tokens += res\n"
   ]
  },
  {
   "cell_type": "code",
   "execution_count": 4,
   "metadata": {},
   "outputs": [
    {
     "name": "stdout",
     "output_type": "stream",
     "text": [
      "US economy grows faster than expected in third quarter - BBC News BBC Homepage Skip to content Accessibility Help sign-in BBC Account alerts Notifications Home News Sport Weather iPlayer Sounds CBBC CBeebies Menu More caret-down search Search Home News Sport Weather iPlayer Sounds CBBC CBeebies Food Bitesize Arts Taster Local Three no Close menu BBC News list Menu Home Coronavirus US Election UK World Business Politics Tech Science Health Family & Education list More Entertainment & Arts Stories In Pictures Newsbeat Reality Check Long Reads Disability Business Your Money Market Data Companies Economy Global Car Industry Business of Sport US economy grows faster than expected in third quarter Published duration 27 October 2017 image copyright Getty Images image caption Spending on autos increased, helping US GDP to grow at 3% The US economy expanded at an annual pace of 3% during the three months to the end of September, which was stronger than expected. The growth extended the robust activity reported in the previous quarter, when US GDP grew at an annual pace of 3.1%. Analysts had been expecting a sharp slowdown after back-to-back hurricanes battered several states in the quarter. But consumer spending held steady, despite a drop in homebuilding investment. Together the two quarters mark the strongest six months of economic activity for the US since 2014, the Commerce Department said . \"Overall, this is a very solid performance, given the disruption caused by Hurricanes Harvey and Irma,\" wrote Ian Shepherdson of Pantheon Macroeconomics. \"Their net effect seems to have been smaller and shorter than we expected.\" What went into the figure? Consumer spending, which increased at a hearty 3.3% rate in the second quarter, slowed to 2.4% growth - a deceleration probably caused by the hurricanes. Construction spending also fell, but exports and business investments in equipment and intellectual property accelerated from the previous quarter. Economists warned that estimates of business inventories, a major factor in the GDP rise, can vary significantly quarter-to-quarter. Excluding that category, GDP -  a broad measure of goods and services made in the US -  increased at an annual pace of 2.3%. The Commerce Department cautioned that its figures did not capture all the losses caused by the storms, which caused widespread closures of factories, offices and airports in states such as Florida and Texas. Its GDP estimates, for example, do not measure activity in US territories, such as Puerto Rico, which suffered some of the most severe damage. The Commerce Department estimated that storm-related damage to fixed assets, such as homes and government buildings, totalled more than $131bn (Â£100bn). It also said it expected the government and insurers to pay more than $100bn in insurance claims, with foreign companies accounting for more than $17.4bn. Commerce Department Secretary Wilbur Ross claimed Friday's GDP report a sign of progress, calling it a \"remarkable achievement in light of the recent hurricanes\". President Donald Trump has made hitting annual GDP growth of 3% a goal, and pledged tax cuts and other policies intended to reach that pace or higher. \"President Trump's bold agenda is steadily overcoming the dismal economy inherited from the previous administration,\" Mr Ross said. \"As the President's tax cut plan is implemented, our entire economy will continue to come roaring back.\" On a year-on-year basis, GDP was up 2.3%, the Commerce Department said in its report, which is an advance estimate that will be revised as more data is collected. That pace is roughly in line with US expansion since the 2007-2009 recession. Kenneth Rogoff, a professor of economics at Harvard University, said the growth reflects improvement in the labour market and other areas that date back to the Obama administration. While some of the president's plans may boost growth, they're not in place yet, he said. \"Let's make no mistake - this was a very good number,\" he said. \"Jobs have been improving, consumption's been improving, businesses are doing better, there is a profound inequality problem but the US economy, despite not much from President Trump, has been doing well.\" Economists said the underlying economic strength shown in the report makes it more likely that central bankers at the US Federal Reserve will raise interest rates again by the end of the year, as expected. The price index for consumer spending, a closely-watched measure of inflation, increased at 1.3% in the third quarter, excluding food and energy. That remains below the Federal Reserve's 2% target. Related Topics US economy Economic growth More on this story You're hired: Who will Trump choose to chair the Fed? Published 23 October 2017 US economic growth revised up again Published 28 September 2017 Top Stories Military to get biggest spending boost in 30 years \"The defence of the realm must come first,\" the PM says as he increases military spending by 10%. Published duration 1 hour ago Trump campaign seeks partial recount in Wisconsin Published duration 2 hours ago Twins born to Covid-19 patient in coma Published duration 3 hours ago Features 'Why a family Christmas means so much to me this year' Not the end of the affair for Labour Have these seven green targets been met? The man who talked to chairs 'I can't let go of my remaining embryos' Talk of Brexit deal breakthrough: Handle with care Grenfell: 'My mother could have survived' Video Grenfell: 'My mother could have survived' play Electric cars: Your questions answered The loyalty oath keeping Rwandans abroad in check Asia's forgotten musical gems rediscovered on vinyl Most Read UK military to get biggest spending boost in 30 years 1 US election: Trump campaign seeks partial recount in Wisconsin 2 Covid-19: Twins delivered in Birmingham while mother in coma 3 Prince William 'tentatively welcomes' new inquiry into BBC's Diana interview 4 Wrexham FC: Rob McElhenney pays Â£6,000 to adapt fan's home 5 Ben Watkins: US MasterChef Junior star dies aged 14 6 Covid-19: Family Christmas get-togethers being considered 7 London taxis stored in fields as passenger demand 'evaporates' 8 Covid: US records quarter of a million deaths from coronavirus 9 McDonald's sorry for stopping couriers using toilets 10 BBC News Services mobile-smart On your mobile microphone On smart speakers newsletter Get news alerts email Contact BBC News Home News Sport Weather iPlayer Sounds CBBC CBeebies Food Bitesize Arts Taster Local Three Terms of Use About the BBC Privacy Policy Cookies Accessibility Help Parental Guidance Contact the BBC Get Personalised Newsletters Why you can trust the BBC Â© 2020 BBC. The BBC is not responsible for the content of external sites. Read about our approach to external linking.\n"
     ]
    }
   ],
   "source": [
    "print(money_string)"
   ]
  },
  {
   "cell_type": "code",
   "execution_count": 5,
   "metadata": {},
   "outputs": [
    {
     "name": "stdout",
     "output_type": "stream",
     "text": [
      "['$131bn', '£100bn', '$100bn', '$17.4bn', '£6,000']\n"
     ]
    }
   ],
   "source": [
    "print(money_tokens)"
   ]
  },
  {
   "cell_type": "markdown",
   "metadata": {},
   "source": [
    "<===================================================MY EXTRA TESTS====================================================>"
   ]
  },
  {
   "cell_type": "markdown",
   "metadata": {},
   "source": [
    "There are two files: \"check.txt\",\"bbc_text.txt\"(stored text from the given BBC financial article).\n",
    "\n",
    "P.S. \"bbc_text.txt\" content may be slightly different from the article parsed by BeautifulSoup, because BBC sometimes updates recommended news on the right corner of webpage. Thus, one of the \"money_tokens\" variables for parsed webpage and stored(copied) may contain extra tokens. This case was demonstrated in the TEST №2. "
   ]
  },
  {
   "cell_type": "markdown",
   "metadata": {},
   "source": [
    "TEST №1 - Matching money tokens in a sample from assignment(in \"check.txt\") which contains proposed types of currency. The code below reads prepared text from the textfile."
   ]
  },
  {
   "cell_type": "code",
   "execution_count": 6,
   "metadata": {},
   "outputs": [],
   "source": [
    "with open(\"check.txt\", \"r\", encoding=\"utf8\") as file:\n",
    "    strs = file.readlines()\n",
    "    i = 0\n",
    "while i < len(strs):\n",
    "    res = re.findall(\"^\\n$\", strs[i])\n",
    "    if res != []:\n",
    "        strs.pop(i)\n",
    "    i += 1"
   ]
  },
  {
   "cell_type": "code",
   "execution_count": 7,
   "metadata": {},
   "outputs": [
    {
     "name": "stdout",
     "output_type": "stream",
     "text": [
      "• (20%) Write a regular expression that can find all amounts of money in a text. Your expression\n",
      "\n",
      "should be able to deal with different formats and currencies, for example £50,000 and\n",
      "\n",
      "£117.3m as well as 30p, 500m euro, 338bn euros, $15bn and $92.88. Make sure that you can\n",
      "\n",
      "at least detect amounts in Pounds, Dollars and Euros.\n"
     ]
    }
   ],
   "source": [
    "money_tokens = list()\n",
    "for st in strs:\n",
    "    money_string = st\n",
    "    res = re.findall(\"(?:\\d+[.,]?\\d+[a-zA-Z]* [pPeEdD][uo][rlu]\\w+|\\d+[.,]?\\d+[a-zA-Z]*p|[^\\w\\s+\\-\\\"]\\d+[.,]?\\d+[a-zA-Z]*(?=[., )]))\", money_string)#[^\\w\\s+-]\\d+[.,]?\\d+\\w+\n",
    "    print(money_string)\n",
    "    if res != []:\n",
    "        money_tokens += res"
   ]
  },
  {
   "cell_type": "code",
   "execution_count": 8,
   "metadata": {},
   "outputs": [
    {
     "name": "stdout",
     "output_type": "stream",
     "text": [
      "['£50,000', '£117.3m', '30p', '500m euro', '338bn euros', '$15bn', '$92.88']\n"
     ]
    }
   ],
   "source": [
    "print(money_tokens)"
   ]
  },
  {
   "cell_type": "markdown",
   "metadata": {},
   "source": [
    "TEST №2 - Matching money tokens from the BBC financial article stored in \"bbc_text.txt\" textfile "
   ]
  },
  {
   "cell_type": "code",
   "execution_count": 9,
   "metadata": {},
   "outputs": [],
   "source": [
    "with open(\"bbc_text.txt\", \"r\", encoding=\"utf8\") as file:\n",
    "    strs = file.readlines()\n",
    "    i = 0\n",
    "while i < len(strs):\n",
    "    res = re.findall(\"^\\n$\", strs[i])\n",
    "    if res != []:\n",
    "        strs.pop(i)\n",
    "    i += 1"
   ]
  },
  {
   "cell_type": "code",
   "execution_count": 10,
   "metadata": {},
   "outputs": [
    {
     "name": "stdout",
     "output_type": "stream",
     "text": [
      "US economy grows faster than expected in third quarter - BBC News BBC Homepage Skip to content Accessibility Help sign-in BBC Account alerts Notifications Home News Sport Weather iPlayer Sounds CBBC CBeebies Menu More caret-down search Search Home News Sport Weather iPlayer Sounds CBBC CBeebies Food Bitesize Arts Taster Local Three no Close menu BBC News list Menu Home Coronavirus US Election UK World Business Politics Tech Science Health Family & Education list More Entertainment & Arts Stories In Pictures Newsbeat Reality Check Long Reads Disability Business Your Money Market Data Companies Economy Global Car Industry Business of Sport US economy grows faster than expected in third quarter Published duration 27 October 2017 image copyright Getty Images image caption Spending on autos increased, helping US GDP to grow at 3% The US economy expanded at an annual pace of 3% during the three months to the end of September, which was stronger than expected. The growth extended the robust activity reported in the previous quarter, when US GDP grew at an annual pace of 3.1%. Analysts had been expecting a sharp slowdown after back-to-back hurricanes battered several states in the quarter. But consumer spending held steady, despite a drop in homebuilding investment. Together the two quarters mark the strongest six months of economic activity for the US since 2014, the Commerce Department said . \"Overall, this is a very solid performance, given the disruption caused by Hurricanes Harvey and Irma,\" wrote Ian Shepherdson of Pantheon Macroeconomics. \"Their net effect seems to have been smaller and shorter than we expected.\" What went into the figure? Consumer spending, which increased at a hearty 3.3% rate in the second quarter, slowed to 2.4% growth - a deceleration probably caused by the hurricanes. Construction spending also fell, but exports and business investments in equipment and intellectual property accelerated from the previous quarter. Economists warned that estimates of business inventories, a major factor in the GDP rise, can vary significantly quarter-to-quarter. Excluding that category, GDP -  a broad measure of goods and services made in the US -  increased at an annual pace of 2.3%. The Commerce Department cautioned that its figures did not capture all the losses caused by the storms, which caused widespread closures of factories, offices and airports in states such as Florida and Texas. Its GDP estimates, for example, do not measure activity in US territories, such as Puerto Rico, which suffered some of the most severe damage. The Commerce Department estimated that storm-related damage to fixed assets, such as homes and government buildings, totalled more than $131bn (Â£100bn). It also said it expected the government and insurers to pay more than $100bn in insurance claims, with foreign companies accounting for more than $17.4bn. Commerce Department Secretary Wilbur Ross claimed Friday's GDP report a sign of progress, calling it a \"remarkable achievement in light of the recent hurricanes\". President Donald Trump has made hitting annual GDP growth of 3% a goal, and pledged tax cuts and other policies intended to reach that pace or higher. \"President Trump's bold agenda is steadily overcoming the dismal economy inherited from the previous administration,\" Mr Ross said. \"As the President's tax cut plan is implemented, our entire economy will continue to come roaring back.\" On a year-on-year basis, GDP was up 2.3%, the Commerce Department said in its report, which is an advance estimate that will be revised as more data is collected. That pace is roughly in line with US expansion since the 2007-2009 recession. Kenneth Rogoff, a professor of economics at Harvard University, said the growth reflects improvement in the labour market and other areas that date back to the Obama administration. While some of the president's plans may boost growth, they're not in place yet, he said. \"Let's make no mistake - this was a very good number,\" he said. \"Jobs have been improving, consumption's been improving, businesses are doing better, there is a profound inequality problem but the US economy, despite not much from President Trump, has been doing well.\" Economists said the underlying economic strength shown in the report makes it more likely that central bankers at the US Federal Reserve will raise interest rates again by the end of the year, as expected. The price index for consumer spending, a closely-watched measure of inflation, increased at 1.3% in the third quarter, excluding food and energy. That remains below the Federal Reserve's 2% target. Related Topics US economy Economic growth More on this story You're hired: Who will Trump choose to chair the Fed? Published 23 October 2017 US economic growth revised up again Published 28 September 2017 Top Stories Labour readmits Corbyn after anti-Semitism row The ex-leader was suspended by the party over his reaction to a report by the human rights watchdog. Published duration 19 minutes ago Ban on new petrol and diesel cars in UK from 2030 Published duration 2 hours ago Level 4 lockdown to be imposed in 11 Scottish areas Published duration 8 hours ago Features The football fans missing their 'happy place' What is devolution and how does it work across the UK? How to be happier while working from home How Dolly Parton is helping fight Covid-19 Is this Covid wave in the US the worst yet? The Attenborough spoof about the 'wild life' of mums Newscast: Vaxxing 9 to 5 No, voting machines didn't delete millions of Trump ballots 'We're paying the price for disrespecting nature' Video 'We're paying the price for disrespecting nature' play Entertainers find new ways to pay the bills Most Read US troops in Afghanistan: Republicans alarmed by withdrawal plans 1 Ban on new petrol and diesel cars in UK from 2030 under PM's green plan 2 Coronavirus: Doctors spell out how to exit England's lockdown 3 Little Mix: Jesy Nelson takes break for medical reasons 4 Newspaper headlines: Covid contracts 'concern' and 'plan to save Christmas' 5 Rupert Grint breaks Sir David Attenborough's Instagram record 6 Go-between paid Â£21m in taxpayer funds for NHS PPE 7 World's only known white giraffe fitted with tracker to deter poachers 8 Jeremy Corbyn: Labour readmits ex-leader after anti-Semitism row 9 Lord Ahmed retires from Parliament days before expulsion 10 BBC News Services mobile-smart On your mobile microphone On smart speakers newsletter Get news alerts email Contact BBC News Best of BBC Sounds How will we vaccinate the world? Audio How will we vaccinate the world? Attribution BBC Sounds listen Mood-boosting tunes to fuel your workout. Audio Mood-boosting tunes to fuel your workout Attribution BBC Sounds listen A gripping tale of abuse and redemption. Audio A gripping tale of abuse and redemption Attribution BBC Sounds listen Does online activism achieve anything? Audio Does online activism achieve anything? Attribution BBC Sounds listen Home News Sport Weather iPlayer Sounds CBBC CBeebies Food Bitesize Arts Taster Local Three Terms of Use About the BBC Privacy Policy Cookies Accessibility Help Parental Guidance Contact the BBC Get Personalised Newsletters Why you can trust the BBC Â© 2020 BBC. The BBC is not responsible for the content of external sites. Read about our approach to external linking.\n"
     ]
    }
   ],
   "source": [
    "money_tokens = list()\n",
    "for st in strs:\n",
    "    money_string = st\n",
    "    res = re.findall(\"(?:\\d+[.,]?\\d+[a-zA-Z]* [pPeEdD][uo][rlu]\\w+|\\d+[.,]?\\d+[a-zA-Z]*p|[^\\w\\s+\\-\\\"]\\d+[.,]?\\d+[a-zA-Z]*(?=[., )]))\", money_string)#[^\\w\\s+-]\\d+[.,]?\\d+\\w+\n",
    "    print(money_string)\n",
    "    if res != []:\n",
    "        money_tokens += res"
   ]
  },
  {
   "cell_type": "code",
   "execution_count": 11,
   "metadata": {},
   "outputs": [
    {
     "name": "stdout",
     "output_type": "stream",
     "text": [
      "['$131bn', '£100bn', '$100bn', '$17.4bn', '£21m']\n"
     ]
    }
   ],
   "source": [
    "print(money_tokens)"
   ]
  },
  {
   "cell_type": "markdown",
   "metadata": {},
   "source": [
    "<=======================================================================================================================>"
   ]
  },
  {
   "cell_type": "raw",
   "metadata": {},
   "source": [
    "• (20%)\n",
    "Write a regular expression that can matching all phone numbers listed below: \n",
    "(You can write a python program to check the matching results)\n"
   ]
  },
  {
   "cell_type": "markdown",
   "metadata": {},
   "source": [
    "Telephone numbers to match:"
   ]
  },
  {
   "cell_type": "raw",
   "metadata": {},
   "source": [
    "555.123.4565\n",
    "+1-(800)-545-2468\n",
    "2-(800)-545-2468\n",
    "3-800-545-2468\n",
    "555-123-3456\n",
    "555 222 3342\n",
    "(234) 234 2442\n",
    "(243)-234-2342\n",
    "1234567890\n",
    "123.456.7890\n",
    "123.4567\n",
    "123-4567\n",
    "1234567900\n",
    "12345678900"
   ]
  },
  {
   "cell_type": "code",
   "execution_count": 12,
   "metadata": {},
   "outputs": [
    {
     "name": "stdout",
     "output_type": "stream",
     "text": [
      "555.123.4565\n",
      " +1-(800)-545-2468\n",
      " 2-(800)-545-2468\n",
      " 3-800-545-2468\n",
      " 555-123-3456\n",
      " 555 222 3342\n",
      " (234) 234 2442\n",
      " (243)-234-2342\n",
      " 1234567890\n",
      " 123.456.7890\n",
      " 123.4567\n",
      " 123-4567\n",
      " 1234567900\n",
      " 12345678900\n",
      "\n",
      "\n",
      "<=========Telephone numbers checking========>\n",
      "555.123.456 == 555.123.456  Succes\n",
      "+1-(800)-545-246 == +1-(800)-545-246  Succes\n",
      "2-(800)-545-246 == 2-(800)-545-246  Succes\n",
      "3-800-545-246 == 3-800-545-246  Succes\n",
      "555-123-345 == 555-123-345  Succes\n",
      "555 222 334 == 555 222 334  Succes\n",
      "(234) 234 244 == (234) 234 244  Succes\n",
      "(243)-234-234 == (243)-234-234  Succes\n",
      "123456789 == 123456789  Succes\n",
      "123.456.789 == 123.456.789  Succes\n",
      "123.456 == 123.456  Succes\n",
      "123-456 == 123-456  Succes\n",
      "123456790 == 123456790  Succes\n",
      "12345678900 == 12345678900  Succes\n"
     ]
    }
   ],
   "source": [
    "strs=list()\n",
    "with open(\"phone_numbers.txt\", \"r\", encoding=\"utf8\") as file:\n",
    "    strs = file.readlines()\n",
    "    print(*strs)\n",
    "    res=list()\n",
    "    print(\"\\n\")\n",
    "for i in range(0,len(strs)):\n",
    "    strs[i]=strs[i][:len(strs[i])-2] if strs[i].count(\"\\n\")>0 else strs[i]\n",
    "    re_s=[(re.findall(\"[^\\w]*\\d+[^\\w]*\\d+[^\\w]*\\d+[^\\w]?\\d+\",strs[i]))]\n",
    "    re_s=[['']] if re_s==[[]] else re_s\n",
    "    res=res+re_s\n",
    "print(\"<=========Telephone numbers checking========>\")\n",
    "for i in range(0,len(res)):\n",
    "    if res[i][0] == strs[i]:\n",
    "        print(res[i][0],\"==\",strs[i],\" Succes\")\n",
    "    else:\n",
    "        print(res[i][0],\"!=\",strs[i],\" Failure\")\n"
   ]
  },
  {
   "cell_type": "raw",
   "metadata": {},
   "source": [
    "Part 2: NLTK (10%) \n",
    "•Find the 50 highest frequency word in Wall Street Journal corpus in NLTK.books (text7), submit\n",
    "your code as the name: part 2 _NLTK_studentID .py (All punctuation removed and all words\n",
    "lowercased.)"
   ]
  },
  {
   "cell_type": "code",
   "execution_count": 13,
   "metadata": {},
   "outputs": [
    {
     "name": "stdout",
     "output_type": "stream",
     "text": [
      "*** Introductory Examples for the NLTK Book ***\n",
      "Loading text1, ..., text9 and sent1, ..., sent9\n",
      "Type the name of the text or sentence to view it.\n",
      "Type: 'texts()' or 'sents()' to list the materials.\n",
      "text1: Moby Dick by Herman Melville 1851\n",
      "text2: Sense and Sensibility by Jane Austen 1811\n",
      "text3: The Book of Genesis\n",
      "text4: Inaugural Address Corpus\n",
      "text5: Chat Corpus\n",
      "text6: Monty Python and the Holy Grail\n",
      "text7: Wall Street Journal\n",
      "text8: Personals Corpus\n",
      "text9: The Man Who Was Thursday by G . K . Chesterton 1908\n"
     ]
    }
   ],
   "source": [
    "from nltk.book import *"
   ]
  },
  {
   "cell_type": "code",
   "execution_count": 14,
   "metadata": {},
   "outputs": [
    {
     "data": {
      "text/plain": [
       "['Pierre', 'Vinken', ',', '61', 'years']"
      ]
     },
     "execution_count": 14,
     "metadata": {},
     "output_type": "execute_result"
    }
   ],
   "source": [
    "text7.tokens[0:5]\n"
   ]
  },
  {
   "cell_type": "code",
   "execution_count": 15,
   "metadata": {},
   "outputs": [],
   "source": [
    "from nltk import re"
   ]
  },
  {
   "cell_type": "code",
   "execution_count": 16,
   "metadata": {},
   "outputs": [
    {
     "data": {
      "text/plain": [
       "['pierre', 'vinken', '61', 'years', 'old']"
      ]
     },
     "execution_count": 16,
     "metadata": {},
     "output_type": "execute_result"
    }
   ],
   "source": [
    "import string\n",
    "txt7_tkns = text7.tokens\n",
    "\n",
    "txt7_tkns_nopunct = [ ]\n",
    "chars = re.escape(string.punctuation)\n",
    "for word in txt7_tkns:\n",
    "    fixed_word=re.sub(r'['+chars+']', \"\", word).lower()\n",
    "    if fixed_word!=\"\":\n",
    "        txt7_tkns_nopunct.append(fixed_word)\n",
    "txt7_tkns_nopunct[0:5]"
   ]
  },
  {
   "cell_type": "code",
   "execution_count": 17,
   "metadata": {},
   "outputs": [
    {
     "name": "stdout",
     "output_type": "stream",
     "text": [
      "!\"\\#\\$%\\&'\\(\\)\\*\\+,\\-\\./:;<=>\\?@\\[\\\\\\]\\^_`\\{\\|\\}\\~\n"
     ]
    }
   ],
   "source": [
    "print(chars)"
   ]
  },
  {
   "cell_type": "code",
   "execution_count": 18,
   "metadata": {},
   "outputs": [],
   "source": [
    "import nltk"
   ]
  },
  {
   "cell_type": "code",
   "execution_count": 19,
   "metadata": {},
   "outputs": [],
   "source": [
    "freq_dist=nltk.FreqDist(txt7_tkns_nopunct)"
   ]
  },
  {
   "cell_type": "code",
   "execution_count": 20,
   "metadata": {},
   "outputs": [
    {
     "name": "stdout",
     "output_type": "stream",
     "text": [
      "the;4764\n",
      "of;2325\n",
      "to;2182\n",
      "a;2006\n",
      "in;1769\n",
      "and;1556\n",
      "1;1166\n",
      "0;1099\n",
      "s;869\n",
      "for;853\n",
      "that;848\n",
      "t1;806\n",
      "u;744\n",
      "is;672\n",
      "said;628\n",
      "it;577\n",
      "on;508\n",
      "by;440\n",
      "at;430\n",
      "as;415\n",
      "2;402\n",
      "with;398\n",
      "from;391\n",
      "million;383\n",
      "mr;375\n",
      "are;369\n",
      "was;367\n",
      "be;356\n",
      "t2;345\n",
      "its;343\n",
      "has;339\n",
      "an;335\n",
      "new;328\n",
      "have;325\n",
      "nt;325\n",
      "but;309\n",
      "he;303\n",
      "or;294\n",
      "will;281\n",
      "they;263\n",
      "company;260\n",
      "us;253\n",
      "which;225\n",
      "this;224\n",
      "says;217\n",
      "year;214\n",
      "about;212\n",
      "would;209\n",
      "more;204\n",
      "were;197\n"
     ]
    }
   ],
   "source": [
    "for word, frequency in freq_dist.most_common(50):\n",
    "    print(u'{};{}'.format(word, frequency))"
   ]
  },
  {
   "cell_type": "code",
   "execution_count": 21,
   "metadata": {},
   "outputs": [
    {
     "data": {
      "text/plain": [
       "'1'"
      ]
     },
     "execution_count": 21,
     "metadata": {},
     "output_type": "execute_result"
    }
   ],
   "source": [
    "freq_dist.most_common(50)[6][0]"
   ]
  },
  {
   "cell_type": "markdown",
   "metadata": {},
   "source": [
    "Checking whether there are any punctuations in most common words:"
   ]
  },
  {
   "cell_type": "code",
   "execution_count": 22,
   "metadata": {},
   "outputs": [
    {
     "name": "stdout",
     "output_type": "stream",
     "text": [
      "None\n"
     ]
    }
   ],
   "source": [
    "print(re.search(\"[^\\w]+\",freq_dist.most_common(50)[0][0]))"
   ]
  },
  {
   "cell_type": "code",
   "execution_count": null,
   "metadata": {},
   "outputs": [],
   "source": []
  }
 ],
 "metadata": {
  "kernelspec": {
   "display_name": "Python 3",
   "language": "python",
   "name": "python3"
  },
  "language_info": {
   "codemirror_mode": {
    "name": "ipython",
    "version": 3
   },
   "file_extension": ".py",
   "mimetype": "text/x-python",
   "name": "python",
   "nbconvert_exporter": "python",
   "pygments_lexer": "ipython3",
   "version": "3.7.6"
  }
 },
 "nbformat": 4,
 "nbformat_minor": 4
}
